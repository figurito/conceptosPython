{
  "cells": [
    {
      "cell_type": "markdown",
      "metadata": {
        "id": "view-in-github",
        "colab_type": "text"
      },
      "source": [
        "<a href=\"https://colab.research.google.com/github/figurito/conceptosPython/blob/main/Conceptos_Basicos_Python.ipynb\" target=\"_parent\"><img src=\"https://colab.research.google.com/assets/colab-badge.svg\" alt=\"Open In Colab\"/></a>"
      ]
    },
    {
      "cell_type": "markdown",
      "metadata": {
        "id": "DoG1My5xpNMG"
      },
      "source": [
        "## Modulo 1 - Introducción"
      ]
    },
    {
      "cell_type": "markdown",
      "source": [
        ""
      ],
      "metadata": {
        "id": "RAwOkjHMkYcx"
      }
    },
    {
      "cell_type": "markdown",
      "metadata": {
        "id": "i1FMsU-yp5Ya"
      },
      "source": [
        "Python es un lenguaje de programación poderoso y fácil de aprender. Cuenta con estructuras de datos eficientes y de alto nivel y un enfoque simple pero efectivo a la programación orientada a objetos. La elegante sintaxis de Python y su tipado dinámico, junto con su naturaleza interpretada, hacen de éste un lenguaje ideal para scripting y desarrollo rápido de aplicaciones en diversas áreas y sobre la mayoría de las plataformas.\n",
        "El intérprete de Python y la extensa biblioteca estándar están a libre disposición en forma binaria y de código fuente para las principales plataformas desde el sitio web de Python, https://www.python.org/, y puede distribuirse libremente. El mismo sitio contiene también distribuciones y enlaces de muchos módulos libres de Python de terceros, programas y herramientas, y documentación adicional.\n",
        "El intérprete de Python puede extenderse fácilmente con nuevas funcionalidades y tipos de datos implementados en C o C++ (u otros lenguajes accesibles desde C). Python también puede usarse como un lenguaje de extensiones para aplicaciones personalizables.\n",
        "Este tutorial introduce de manera informal al lector a los conceptos y características básicas del lenguaje y el sistema de Python. Es bueno tener un intérprete de Python a mano para experimentar, sin embargo, todos los ejemplos están aislados, por lo tanto, el tutorial puede leerse estando desconectado."
      ]
    },
    {
      "cell_type": "markdown",
      "source": [
        ""
      ],
      "metadata": {
        "id": "a1Q8wn9Rsdqs"
      }
    },
    {
      "cell_type": "code",
      "source": [
        ""
      ],
      "metadata": {
        "id": "3IE9IkPHseE1"
      },
      "execution_count": null,
      "outputs": []
    },
    {
      "cell_type": "markdown",
      "metadata": {
        "id": "OLQsnp9nqNuH"
      },
      "source": [
        "**INSTALACIÓN PYTHON**\n",
        "\n",
        "Para descargar Python para Windows debes de ingresar al siguiente enlace https://www.python.org/downloads/ , también los puedes para descargar para otros sistemas operativos como:\n",
        "•Linux (algunas versiones lo incluyen) sudo apt-get install Python\n",
        "•MAC OSX ya viene incluido 2.7\n",
        "\n",
        "\n",
        "1.   Elemento de listaEjecutar el instalador y seguimos el asistente de instalación\n",
        "2.   Seleccionarla opción de adicionar la ruta de  Python 3.6\n",
        "\n"
      ]
    },
    {
      "cell_type": "markdown",
      "metadata": {
        "id": "avqYVgYIrnnd"
      },
      "source": [
        "# Fundamentos de Programación en Python: Módulo 2"
      ]
    },
    {
      "cell_type": "markdown",
      "metadata": {
        "id": "9J8MipvsuDFQ"
      },
      "source": [
        "**En este módulo, aprenderás sobre:**\n",
        "\n",
        "- Los tipos de datos y los métodos básicos de formateo, conversión de datos, entrada y salida de datos.\n",
        "- Operadores.\n",
        "- Variables.\n",
        "\n",
        "![https://edube.org/uploads/media/default/0001/01/module2.png](https://edube.org/uploads/media/default/0001/01/module2.png)"
      ]
    },
    {
      "cell_type": "markdown",
      "metadata": {
        "id": "TQebgduFuhtW"
      },
      "source": [
        "## **Literales - los datos en si mismos**\n",
        "\n",
        "Ahora que tienes un poco de conocimiento acerca de algunas de las poderosas características que ofrece la función `print()`, es tiempo de aprender sobre cuestiones nuevas, y un nuevo término - el **literal**.\n",
        "\n",
        "**Un literal se refiere a datos cuyos valores están determinados por el literal mismo.**\n",
        "\n",
        "Debido a que es un concepto un poco difícil de entender, un buen ejemplo puede ser muy útil.\n",
        "\n",
        "Observa los siguientes dígitos:\n",
        "\n",
        "```\n",
        "123\n",
        "```\n",
        "\n",
        "¿Puedes adivinar qué valor representa? claro que puedes - es *ciento veintitrés*.\n",
        "\n",
        "Que tal este:\n",
        "\n",
        "```\n",
        "c\n",
        "```\n",
        "\n",
        "¿Representa algún valor? Tal vez. Puede ser el símbolo de la velocidad de la luz, por ejemplo. También puede representar la constante de integración. Incluso la longitud de una hipotenusa en el Teorema de Pitágoras. Existen muchas posibilidades.\n",
        "\n",
        "# \n",
        "\n",
        "No se puede elegir el valor correcto sin algo de conocimiento adicional.\n",
        "\n",
        "Y esta es la pista: `123` es un literal, y `c` no lo es.\n",
        "\n",
        "Se utilizan literales **para codificar datos y ponerlos dentro del código.** Ahora mostraremos algunas convenciones que se deben seguir al utilizar Python."
      ]
    },
    {
      "cell_type": "markdown",
      "source": [
        ""
      ],
      "metadata": {
        "id": "LgPcS7JRYlKp"
      }
    },
    {
      "cell_type": "markdown",
      "metadata": {
        "id": "R-77ZkozvlNm"
      },
      "source": [
        "## **Literales - los datos en si mismos**\n",
        "\n",
        "Comencemos con un sencillo experimento, observa el fragmento de código en el editor.\n",
        "\n",
        "La primera línea luce familiar. La segunda parece ser errónea debido a la falta visible de comillas.\n",
        "\n",
        "Intenta ejecutarlo.\n",
        "\n",
        "Si todo salió bien, ahora deberías de ver dos líneas idénticas.\n"
      ]
    },
    {
      "cell_type": "code",
      "execution_count": null,
      "metadata": {
        "colab": {
          "base_uri": "https://localhost:8080/"
        },
        "id": "l__ogocVpmQ9",
        "outputId": "85e872d2-a9a4-419f-94f9-f70728eb28c0"
      },
      "outputs": [
        {
          "output_type": "stream",
          "name": "stdout",
          "text": [
            "kevin yule\n",
            "2\n"
          ]
        }
      ],
      "source": [
        "print(\"kevin yule\")\n",
        "print(2)"
      ]
    },
    {
      "cell_type": "code",
      "execution_count": null,
      "metadata": {
        "id": "upptDHA9I8fq"
      },
      "outputs": [],
      "source": [
        ""
      ]
    },
    {
      "cell_type": "markdown",
      "metadata": {
        "id": "XrzVqe0ewqlT"
      },
      "source": [
        "## **Enteros**\n",
        "\n",
        "Quizá ya sepas un poco acerca de como las computadoras hacen cálculos con números. Tal vez has escuchado del **sistema binario**, y como es que ese es el sistema que las computadoras utilizan para almacenar números y como es que pueden realizar cualquier tipo de operaciones con ellos.\n",
        "\n",
        "No exploraremos las complejidades de los sistemas numéricos posicionales, pero se puede afirmar que todos los números manejados por las computadoras modernas son de dos tipos:\n",
        "\n",
        "- **Enteros**, es decir, aquellos que no tienen una parte fraccionaria.\n",
        "- Y números **punto-flotantes** (o simplemente **flotantes**), los cuales contienen (o son capaces de contener) una parte fraccionaría.\n",
        "\n",
        "Esta definición no es tan precisa, pero es suficiente por ahora. La distinción es muy importante, y la frontera entre estos dos tipos de números es muy estricta. Ambos tipos difieren significativamente en como son almacenados en una computadora y en el rango de valores que aceptan.\n",
        "\n",
        "La característica del valor numérico que determina el tipo, rango y aplicación se denomina el **tipo**.\n",
        "\n",
        "Si se codifica un literal y se coloca dentro del código de Python, la forma del literal determina la representación (tipo) que Python utilizará para **almacenarlo en la memoria**.\n",
        "\n",
        "Por ahora, dejemos los números flotantes a un lado (regresaremos a ellos pronto) y analicemos como es que Python reconoce un numero entero.\n",
        "\n",
        "# \n",
        "\n",
        "El proceso es casi como usar lápiz y papel, es simplemente una cadena de dígitos que conforman el número, pero hay una condición, no se deben insertar caracteres que no sean dígitos dentro del número.\n",
        "\n",
        "Tomemos por ejemplo, el número once millones ciento once mil ciento once. Si tomaras ahorita un lápiz en tu mano, escribirías el siguiente numero: `11,111,111`, o así: `11.111.111`, incluso de esta manera: `11 111 111`.\n",
        "\n",
        "Es claro que la separación hace que sea más fácil de leer, especialmente cuando el número tiene demasiados dígitos. Sin embargo, Python no acepta estas cosas. Esta **prohibido**. ¿Qué es lo que Python permite? El uso de **guion bajo** en los literales numéricos.*\n",
        "\n",
        "Por lo tanto, el número se puede escribir ya sea así: `11111111`, o como sigue: `11_111_111`.\n",
        "\n",
        "**NOTA**   *Python 3.6 ha introducido el guion bajo en los literales numéricos, permitiendo colocar un guion bajo entre dígitos y después de especificadores de base para mejorar la legibilidad. Esta característica no está disponible en versiones anteriores de Python.\n",
        "\n",
        "¿Cómo se codifican los números negativos en Python? Como normalmente se hace, agregando un signo de **menos**. Se puede escribir: `-11111111`, o `-11_111_111`.\n",
        "\n",
        "Los números positivos no requieren un signo positivo antepuesto, pero es permitido, si se desea hacer. Las siguientes líneas describen el mismo número: `+11111111` y `11111111`."
      ]
    },
    {
      "cell_type": "markdown",
      "metadata": {
        "id": "D5BW5NNtxnat"
      },
      "source": [
        "## **Enteros: números octales y hexadecimales**\n",
        "\n",
        "Existen dos convenciones adicionales en Python que no son conocidas en el mundo de las matemáticas. El primero nos permite utilizar un número en su representación **octal**.\n",
        "\n",
        "Si un numero entero esta precedido por un código `0O` o `0o` (cero-o), el numero será tratado como un valor octal. Esto significa que el número debe contener dígitos en el rango del [0..7] únicamente.\n",
        "\n",
        "`0o123` es un número **octal** con un valor (decimal) igual a `83`.\n",
        "\n"
      ]
    },
    {
      "cell_type": "markdown",
      "metadata": {
        "id": "peL69q0QyKb2"
      },
      "source": [
        "La función `print()` realiza la conversión automáticamente. Intenta esto:\n",
        "\n",
        "```\n",
        "print(0o123)\n",
        "```\n",
        "\n",
        "La segunda convención nos permite utilizar números en **hexadecimal**. Dichos números deben ser precedidos por el prefijo `0x` o `0X` (cero-x).\n",
        "\n",
        "`0x123` es un número **hexadecimal** con un valor (decimal) igual a `291`. La función print() puede manejar estos valores también. Intenta esto:\n",
        "\n",
        "```\n",
        "print(0x123)\n",
        "```"
      ]
    },
    {
      "cell_type": "code",
      "execution_count": null,
      "metadata": {
        "colab": {
          "base_uri": "https://localhost:8080/"
        },
        "id": "4V637L3YyHa5",
        "outputId": "7c63d182-e2ec-4772-cb6c-30f9074f9a02"
      },
      "outputs": [
        {
          "output_type": "stream",
          "name": "stdout",
          "text": [
            "23\n",
            "802\n"
          ]
        }
      ],
      "source": [
        "print(0o027)\n",
        "print(0x322)"
      ]
    },
    {
      "cell_type": "markdown",
      "metadata": {
        "id": "hyyKwlqvzrv3"
      },
      "source": [
        "## **Flotantes**\n",
        "\n",
        "Ahora es tiempo de hablar acerca de otro tipo, el cual esta designado para representar y almacenar los números que (como lo diría un matemático) tienen una **parte decimal no vacía**.\n",
        "\n",
        "Son números que tienen (o pueden tener) una parte fraccionaria después del punto decimal, y aunque esta definición es muy pobre, es suficiente para lo que se desea discutir.\n",
        "\n",
        "Cuando se usan términos como *dos y medio* o *menos cero punto cuatro*, pensamos en números que la computadora considera como números **punto-flotante**:\n",
        "\n",
        "```\n",
        "2.5\n",
        "-0.4\n",
        "```\n",
        "\n",
        "Nota: *dos punto cinco* se ve normal cuando se escribe en un programa, sin embargo si tu idioma nativo prefiere el uso de una coma en lugar de un punto, se debe asegurar que **el número no contenga más comas**.\n",
        "\n",
        "Python no lo aceptará, o (en casos poco probables) puede malinterpretar el número, debido a que la coma tiene su propio significado en Python.\n",
        "\n",
        "Si se quiere utilizar solo el valor de dos punto cinco, se debe escribir como se mostró anteriormente. Nota que hay un punto entre el *2* y el *5* - no una coma.\n",
        "\n",
        "# \n",
        "\n",
        "Como puedes imaginar, el valor de **cero punto cuatro** puede ser escrito en Python como:\n",
        "\n",
        "```\n",
        "0.4\n",
        "```\n",
        "\n",
        "Pero no hay que olvidar esta sencilla regla, se puede omitir el cero cuando es el único dígito antes del punto decimal.\n",
        "\n",
        "En esencia, el valor `0.4` se puede escribir como:\n",
        "\n",
        "```\n",
        ".4\n",
        "```\n",
        "\n",
        "Por ejemplo: el valor de `4.0` puede ser escrito como:\n",
        "\n",
        "```\n",
        "4.\n",
        "```\n",
        "\n",
        "Esto no cambiará su tipo ni su valor.\n",
        "\n"
      ]
    },
    {
      "cell_type": "markdown",
      "metadata": {
        "id": "wEgRiuWl1Q_x"
      },
      "source": [
        "## **Enteros vs. Flotantes**\n",
        "\n",
        "El punto decimal es esencialmente importante para reconocer números punto-flotantes en Python.\n",
        "\n",
        "Observa estos dos números:\n",
        "\n",
        "```\n",
        "4\n",
        "4.0\n",
        "```\n",
        "\n",
        "Se puede pensar que son idénticos, pero Python los ve de una manera completamente distinta.\n",
        "\n",
        "`4` es un número **entero**, mientras que `4.0` es un número **punto-flotante** .\n",
        "\n",
        "El punto decimal es lo que determina si es flotante.\n",
        "\n",
        "Por otro lado, no solo el punto hace que un número sea flotante. Se puede utilizar la letra `e`.\n",
        "\n",
        "Cuando se desea utilizar números que son muy pequeños o muy grandes, se puede implementar la **notación científica**.\n",
        "\n",
        "Por ejemplo, la velocidad de la luz, expresada en *metros por segundo*. Escrita directamente se vería de la siguiente manera: `300000000`.\n",
        "\n",
        "Para evitar escribir tantos ceros, los libros de texto emplean la forma abreviada, la cual probablemente hayas visto: `3 x 108`.\n",
        "\n",
        "Se lee de la siguiente manera: tres por diez elevado a la octava potencia.\n",
        "\n",
        "En Python, el mismo efecto puede ser logrado de una manera similar, observa lo siguiente:\n",
        "\n",
        "```\n",
        "3E8\n",
        "```\n",
        "\n",
        "La letra `E` (también se puede utilizar la letra minúscula `e` - proviene de la palabra **exponente**) la cual significa *por diez a la n potencia*.\n",
        "\n",
        "Nota:\n",
        "\n",
        "- El **exponente** (el valor después de la E ) debe ser un valor entero.\n",
        "\n",
        "\n",
        "- La **base** (el valor antes de la E ) puede o no ser un valor entero.\n",
        "\n",
        "    \n",
        "\n"
      ]
    },
    {
      "cell_type": "code",
      "execution_count": null,
      "metadata": {
        "colab": {
          "base_uri": "https://localhost:8080/"
        },
        "id": "-0id6vY1yDfu",
        "outputId": "36b43f35-1c0d-4595-d578-0f2ca311395d"
      },
      "outputs": [
        {
          "output_type": "stream",
          "name": "stdout",
          "text": [
            "300000000.0\n",
            "1e-15\n"
          ]
        }
      ],
      "source": [
        "print(3e8)\n",
        "print(0.000000000000001)"
      ]
    },
    {
      "cell_type": "code",
      "execution_count": null,
      "metadata": {
        "colab": {
          "base_uri": "https://localhost:8080/"
        },
        "id": "qzKuR6F93B3v",
        "outputId": "814abd1c-fac7-4013-a6bf-bd2202498cfb"
      },
      "outputs": [
        {
          "name": "stdout",
          "output_type": "stream",
          "text": [
            "300000000.0\n",
            "1e-22\n"
          ]
        }
      ],
      "source": [
        "print(3e8)\n",
        "print(0.0000000000000000000001)\n"
      ]
    },
    {
      "cell_type": "markdown",
      "metadata": {
        "id": "GPL61ziV3tlU"
      },
      "source": [
        "Nota: el hecho de que se haya escogido una de las posibles formas de codificación de un valor flotante no significa que Python lo presentará de la misma manera.\n",
        "\n",
        "Python podría en ocasiones elegir una **notación diferente**.\n",
        "\n",
        "Python siempre elige la presentación más corta del número, y esto se debe de tomar en consideración al crear literales."
      ]
    },
    {
      "cell_type": "markdown",
      "metadata": {
        "id": "0nT4KlHp4J4S"
      },
      "source": [
        "## **Cadenas**\n",
        "\n",
        "Las cadenas se emplean cuando se requiere procesar texto (como nombres de cualquier tipo, direcciones, novelas, etc.), no números.\n",
        "\n",
        "Ya conoces un poco acerca de ellos, por ejemplo, que **las cadenas requieren comillas** así como los flotantes necesitan punto decimal.\n",
        "\n",
        "Este es un ejemplo de una cadena: `\"Yo soy una cadena.\"`\n",
        "\n",
        "Sin embargo, hay una cuestión. ¿Cómo se puede codificar una comilla dentro de una cadena que ya está delimitada por comillas?\n",
        "\n",
        "Supongamos que se desea mostrar un muy sencillo mensaje:\n",
        "\n",
        "```\n",
        "Me gusta  \"Monty Python\"\n",
        "```\n",
        "\n",
        "¿Cómo se puede hacer esto sin generar un error? Existen dos posibles soluciones.\n",
        "\n",
        "La primera se basa en el concepto ya conocido del **carácter de escape**, el cual recordarás se utiliza empleando la **diagonal invertida**. La diagonal invertida puede también escapar de la comilla. Una comilla precedida por una diagonal invertida cambia su significado, no es un limitador, simplemente es una comilla. Lo siguiente funcionará como se desea:\n",
        "\n",
        "```\n",
        "print(\"Me gusta \\\"Monty Python\\\"\")\n",
        "```\n",
        "\n",
        "Nota: ¿Existen dos comillas con escape en la cadena, puedes observar ambas?\n",
        "\n",
        "La segunda solución puede ser un poco sorprendente. Python puede utilizar **una apóstrofe en lugar de una comilla**. Cualquiera de estos dos caracteres puede delimitar una cadena, pero para ello se debe ser **consistente.**\n",
        "\n",
        "Si se delimita una cadena con una comilla, se debe cerrar con una comilla.\n",
        "\n",
        "Si se inicia una cadena con un apóstrofe, se debe terminar con un apóstrofe.\n",
        "\n",
        "Este ejemplo funcionará también:\n",
        "\n",
        "```\n",
        "print('Me gusta \"Monty Python\"')\n",
        "```\n",
        "\n",
        "Nota: en este ejemplo no se requiere nada de escapes."
      ]
    },
    {
      "cell_type": "code",
      "execution_count": null,
      "metadata": {
        "colab": {
          "base_uri": "https://localhost:8080/"
        },
        "id": "_tx-w7Z_4lCe",
        "outputId": "09464cd9-3b01-48f9-f13d-04d675a47f65"
      },
      "outputs": [
        {
          "name": "stdout",
          "output_type": "stream",
          "text": [
            "Ingrese el primer numero :4\n",
            "Ingrese el segundo numero :3\n",
            "El resultado de la suma es: 7\n"
          ]
        }
      ],
      "source": [
        "n1=int(input(\"Ingrese el primer numero :\"))\n",
        "n2=int(input(\"Ingrese el segundo numero :\"))\n",
        "r=n1+n2\n",
        "print(\"El resultado de la suma es:\",r)"
      ]
    },
    {
      "cell_type": "markdown",
      "metadata": {
        "id": "V3aehpyi65Or"
      },
      "source": [
        "## **Valores Booleanos**\n",
        "\n",
        "Para concluir con los literales de Python, existen dos más.\n",
        "\n",
        "No son tan obvios como los anteriores y se emplean para representar un valor muy abstracto - **la veracidad**.\n",
        "\n",
        "Cada vez que se le pregunta a Python si un número es más grande que otro, el resultado es la creación de un tipo de dato muy específico - un valor **booleano**.\n",
        "\n",
        "El nombre proviene de George Boole (1815-1864), el autor de *Las Leyes del Pensamiento*, las cuales definen el **Algebra Booleana** - una parte del algebra que hace uso de dos valores: `Verdadero` y `Falso`, denotados como `1` y `0`.\n",
        "\n",
        "Un programador escribe un programa, y el programa hace preguntas. Python ejecuta el programa, y provee las respuestas. El programa debe ser capaz de reaccionar acorde a las respuestas recibidas.\n",
        "\n",
        "Afortunadamente, las computadoras solo conocen dos tipos de respuestas:\n",
        "\n",
        "- Si, esto es verdad.\n",
        "- No, esto es falso.\n",
        "\n",
        "Nunca habrá una respuesta como: *No lo sé* o *probablemente si, pero no estoy seguro*.\n",
        "\n",
        "Python, es entonces, un reptil **binario**.\n",
        "\n",
        "Estos dos valores booleanos tienen denotaciones estrictas en Python:\n",
        "\n",
        "```\n",
        "True\n",
        "False\n",
        "```\n",
        "\n",
        "No se pueden cambiar, se deben tomar estos símbolos como son, incluso respetando las **mayúsculas y minúsculas**.\n",
        "\n",
        "Reto: ¿Cuál será el resultado del siguiente fragmento de código?\n",
        "\n",
        "```\n",
        "print(True > False)\n",
        "print(True < False)\n",
        "```\n",
        "\n",
        "Ejecuta el código en la terminal. ¿Puedes explicar el resultado?"
      ]
    },
    {
      "cell_type": "markdown",
      "source": [
        ""
      ],
      "metadata": {
        "id": "FyxWkdGVNU-z"
      }
    },
    {
      "cell_type": "markdown",
      "metadata": {
        "id": "RX2L_h068MX7"
      },
      "source": [
        "## **Puntos Clave**\n",
        "\n",
        "1. **Literales** son notaciones para representar valores fijos en el código. Python tiene varios tipos de literales, es decir, un literal puede ser un número por ejemplo, `123`), o una cadena (por ejemplo, \"Yo soy un literal.\").\n",
        "\n",
        "2. El **Sistema Binario** es un sistema numérico que emplea *2* como su base. Por lo tanto, un número binario está compuesto por 0s y 1s únicamente, por ejemplo, `1010` es 10 en decimal.\n",
        "\n",
        "Los sistemas de numeración Octales y Hexadecimales son similares pues emplean 8 y 16 como sus bases respectivamente. El sistema hexadecimal utiliza los números decimales más seis letras adicionales.\n",
        "\n",
        "3. **Los Enteros** (o simplemente **int**) son uno de los tipos numéricos que soporta Python. Son números que no tienen una parte fraccionaria, por ejemplo, `256`, o `-1` (enteros negativos).\n",
        "\n",
        "4. Los números **Punto-Flotante** (o simplemente **flotantes**) son otro tipo numérico que soporta Python. Son números que contienen (o son capaces de contener) una parte fraccionaria, por ejemplo, `1.27`.\n",
        "\n",
        "5. Para codificar un apóstrofe o una comilla dentro de una cadena se puede utilizar el carácter de escape, por ejemplo, `'I\\'m happy.'`, o abrir y cerrar la cadena utilizando un conjunto de símbolos distintos al símbolo que se desea codificar, por ejemplo, `\"I'm happy.\"` para codificar un apóstrofe, y `'Él dijo \"Python\", no \"typhoon\"'` para codificar comillas.\n",
        "\n",
        "6. **Los Valores Booleanos** son dos objetos constantes `Verdadero` y `Falso` empleados para representar valores de verdad (en contextos numéricos `1` es `True`, mientras que `0` es `False`).\n",
        "\n",
        "**EXTRA**\n",
        "\n",
        "Existe un literal especial más utilizado en Python: el literal `None`. Este literal es llamado un objeto de `NonType` (ningún tipo), y puede ser utilizado para representar **la ausencia de un valor**. Pronto se hablará más acerca de ello."
      ]
    },
    {
      "cell_type": "code",
      "execution_count": null,
      "metadata": {
        "id": "0pb-S6wa7s2w",
        "colab": {
          "base_uri": "https://localhost:8080/"
        },
        "outputId": "c5d06277-c818-4249-bcfe-c68fa89a09fa"
      },
      "outputs": [
        {
          "output_type": "stream",
          "name": "stdout",
          "text": [
            "True\n",
            "False\n"
          ]
        }
      ],
      "source": [
        "print(1 > 0) \n",
        "print(True < False) "
      ]
    },
    {
      "cell_type": "markdown",
      "metadata": {
        "id": "DsgDHxLT9XZT"
      },
      "source": [
        "### Ejercicios\n",
        "\n",
        "**Ejercicio 1**\n",
        "\n",
        "¿Qué tipos de literales son los siguientes dos ejemplos?\n",
        "\n",
        "```\n",
        "\"Hola\", \"007\"\n",
        "```\n",
        "\n",
        "Revisar\n",
        "\n",
        "**Ejercicio 2**\n",
        "\n",
        "¿Qué tipo de literales son los siguientes cuatro ejemplos?\n",
        "\n",
        "```\n",
        "\"1.5\", 2.0, 528, False\n",
        "```\n",
        "\n",
        "Revisar\n",
        "\n",
        "**Ejercicio 3**\n",
        "\n",
        "¿Cuál es el valor en decimal del siguiente numero en binario?\n",
        "\n",
        "```\n",
        "1011\n",
        "```\n",
        "\n",
        "Revisar"
      ]
    },
    {
      "cell_type": "markdown",
      "source": [
        ""
      ],
      "metadata": {
        "id": "O6KkoJrPNY_E"
      }
    },
    {
      "cell_type": "code",
      "execution_count": null,
      "metadata": {
        "colab": {
          "base_uri": "https://localhost:8080/"
        },
        "id": "4T3Nqx3Y-DEE",
        "outputId": "89118361-d1da-4db8-e1e6-17b6377256d6"
      },
      "outputs": [
        {
          "output_type": "stream",
          "name": "stdout",
          "text": [
            "0.4\n"
          ]
        }
      ],
      "source": [
        "print(.2+.2)"
      ]
    },
    {
      "cell_type": "markdown",
      "metadata": {
        "id": "L0wGIWdvC16p"
      },
      "source": [
        "## **Python como una calculadora**\n",
        "\n",
        "Ahora, se va a mostrar un nuevo lado de la función print(). Ya se sabe que la función es capaz de mostrar los valores de los literales que le son pasados por los argumentos.\n",
        "\n",
        "De hecho, puede hacer algo más. Observa el siguiente fragmento de código:\n",
        "\n",
        "```\n",
        "print(2+2)\n",
        "```\n",
        "\n",
        "Reescribe el código en el editor y ejecútalo. ¿Puedes adivinar la salida?\n",
        "\n",
        "Deberías de ver el número cuatro. Tómate la libertad de experimentar con otros operadores.\n",
        "\n",
        "Sin tomar esto con mucha seriedad, has descubierto que Python puede ser utilizado como una calculadora. No una muy útil, y definitivamente no una de bolsillo, pero una calculadora sin duda alguna.\n",
        "\n",
        "Tomando esto más seriamente, nos estamos adentrado en el terreno de los **operadores** y **expresiones**.\n",
        "\n",
        "# **Los Operadores Básicos**\n",
        "\n",
        "Un **operador** es un símbolo del lenguaje de programación, el cual es capaz de realizar operaciones con los valores.\n",
        "\n",
        "Por ejemplo, como en la aritmética, el signo de `+` (mas) es un operador el cual es capaz de **sumar** dos numeros, dando el resultado de la suma.\n",
        "\n",
        "Sin embargo, no todos los operadores de Python son tan simples como el signo de mas, veamos algunos de los operadores disponibles en Python, las reglas que se deben seguir para emplearlos, y como interpretar las reglas que realizan.\n",
        "\n",
        "Se comenzará con los operadores que están asociados con las operaciones aritméticas más conocidas:\n",
        "\n",
        "`+`, `-`, `*`, `/`, `//`, `%`, `**`\n",
        "\n",
        "El orden en el que aparecen no es por casualidad. Hablaremos más de ello cuando se hayan visto todos.\n",
        "\n",
        "**Recuerda**: Cuando los datos y operadores se unen, forman juntos **expresiones**. La expresión más sencilla es el literal."
      ]
    },
    {
      "cell_type": "markdown",
      "source": [
        "Mi"
      ],
      "metadata": {
        "id": "NPTy_U3xNg_f"
      }
    },
    {
      "cell_type": "markdown",
      "source": [
        ""
      ],
      "metadata": {
        "id": "gjmeZkFqNvIM"
      }
    },
    {
      "cell_type": "code",
      "execution_count": null,
      "metadata": {
        "id": "Yd4Q9u-h_LFr",
        "colab": {
          "base_uri": "https://localhost:8080/"
        },
        "outputId": "442e6c5b-cb1d-41a7-b92b-05ec46e99a66"
      },
      "outputs": [
        {
          "output_type": "stream",
          "name": "stdout",
          "text": [
            "8\n"
          ]
        }
      ],
      "source": [
        "print(2 ** 3)"
      ]
    },
    {
      "cell_type": "markdown",
      "metadata": {
        "id": "rP2rOTb0DDAk"
      },
      "source": [
        "## **Operadores aritméticos: exponenciación**\n",
        "\n",
        "Un signo de `**` (doble asterisco) es un operador de **exponenciación** (potencia). El argumento a la izquierda es la **base**, el de la derecha, el **exponente**.\n",
        "\n",
        "Las matemáticas clásicas prefieren una notación con superíndices, como el siguiente: **2 elevado a la 3**. Los editores de texto puros no aceptan esa notación, por lo tanto Python utiliza `**` en lugar de la notación matemática, por ejemplo, `2 ** 3`.\n",
        "\n",
        "Observa los ejemplos en la ventana del editor.\n",
        "\n",
        "Nota: En los ejemplos, los dobles asteriscos están rodeados de espacios, no es obligatorio hacerlo pero hace que el código sea mas **legible**.\n",
        "\n",
        "Los ejemplos muestran una característica importante de los **operadores numéricos** de Python.\n",
        "\n",
        "Ejecuta el código y observa cuidadosamente los resultados que arroja. ¿Puedes observar algo?\n",
        "\n",
        "**Recuerda**: Es posible formular las siguientes reglas con base en los resultados:\n",
        "\n",
        "- Cuando **ambos** `*` argumentos son enteros, el resultado es entero también.\n",
        "- Cuando **al menos un** `*` argumento es flotante, el resultado también es flotante.\n",
        "\n",
        "Esta es una distinción importante que se debe recordar.\n",
        "\n",
        "```\n",
        "print(2 ** 3)\n",
        "print(2 ** 3.)\n",
        "print(2. ** 3)\n",
        "print(2. ** 3.)\n",
        "```"
      ]
    },
    {
      "cell_type": "code",
      "execution_count": null,
      "metadata": {
        "id": "cKJXjVThDacz",
        "colab": {
          "base_uri": "https://localhost:8080/"
        },
        "outputId": "07c3811d-c68d-4c1a-9288-746bf26d1d06"
      },
      "outputs": [
        {
          "output_type": "stream",
          "name": "stdout",
          "text": [
            "8\n",
            "8.0\n",
            "8.0\n",
            "8.0\n"
          ]
        }
      ],
      "source": [
        "print(2 ** 3)\n",
        "print(2 ** 3.)\n",
        "print(2. ** 3)\n",
        "print(2. ** 3.)"
      ]
    },
    {
      "cell_type": "markdown",
      "metadata": {
        "id": "7YE7SvJeEM0n"
      },
      "source": [
        "## **Operadores aritméticos: multiplicación**\n",
        "\n",
        "Un símbolo de `*` (asterisco) es un operador de **multiplicación**.\n",
        "\n",
        "Ejecuta el código y revisa si la regla de *entero vs flotante* aún funciona.\n"
      ]
    },
    {
      "cell_type": "code",
      "execution_count": null,
      "metadata": {
        "id": "o_e75fwRE4eT",
        "colab": {
          "base_uri": "https://localhost:8080/"
        },
        "outputId": "f3eeef32-ecc4-48b5-ed36-3c7e118f6d2e"
      },
      "outputs": [
        {
          "output_type": "stream",
          "name": "stdout",
          "text": [
            "6\n",
            "6.0\n",
            "6.0\n",
            "6.0\n"
          ]
        }
      ],
      "source": [
        "print(2 * 3)\n",
        "print(2 * 3.)\n",
        "print(2. * 3)\n",
        "print(2. * 3.)"
      ]
    },
    {
      "cell_type": "markdown",
      "metadata": {
        "id": "XzzwKhB_Er0I"
      },
      "source": [
        "## **Operadores aritméticos: división**\n",
        "\n",
        "Un símbolo de `/` (diagonal) es un operador de **división**.\n",
        "\n",
        "El valor después de la diagonal es el **dividendo**, el valor antes de la diagonal es el **divisor**.\n",
        "\n",
        "Ejecuta el código y analiza los resultados.\n",
        "\n",
        "```\n",
        "print(6 / 3)\n",
        "print(6 / 3.)\n",
        "print(6. / 3)\n",
        "print(6. / 3.)\n",
        "```\n",
        "\n",
        "Deberías de poder observar que hay una excepción a la regla.\n",
        "\n",
        "**El resultado producido por el operador de división siempre es flotante**, sin importar si a primera vista el resultado es flotante: `1 / 2`, o si parece ser completamente entero: `2 / 1`.\n",
        "\n",
        "¿Esto ocasiona un problema? Sí, en ocasiones se podrá necesitar que el resultado de una división sea entero, no flotante.\n",
        "\n",
        "Afortunadamente, Python puede ayudar con eso."
      ]
    },
    {
      "cell_type": "code",
      "execution_count": null,
      "metadata": {
        "id": "F_LSo4OiFJJD",
        "colab": {
          "base_uri": "https://localhost:8080/"
        },
        "outputId": "1110cb83-d09c-44c8-dd55-2542c5328b58"
      },
      "outputs": [
        {
          "output_type": "stream",
          "name": "stdout",
          "text": [
            "2.0\n",
            "2.0\n",
            "2.0\n",
            "<class 'float'>\n"
          ]
        }
      ],
      "source": [
        "print(6 / 3)\n",
        "print(6 / 3.)\n",
        "print(6. / 3)\n",
        "print(type(6. / 3.))"
      ]
    },
    {
      "cell_type": "markdown",
      "metadata": {
        "id": "XK-giaS-FiNS"
      },
      "source": [
        "## **Operadores aritméticos: división entera**\n",
        "\n",
        "Un símbolo de `//` (doble diagonal) es un operador de **división entera**. Difiere del operador estándar `/` en dos detalles:\n",
        "\n",
        "- El resultado carece de la parte fraccionaria, está ausente (para los enteros), o siempre es igual a cero (para los flotantes); esto significa que **los resultados siempre son redondeados**.\n",
        "- Se ajusta a la regla .\n",
        "\n",
        "    *entero vs flotante*\n",
        "\n",
        "Ejecuta el ejemplo debajo y observa los resultados:\n"
      ]
    },
    {
      "cell_type": "code",
      "execution_count": null,
      "metadata": {
        "colab": {
          "base_uri": "https://localhost:8080/"
        },
        "id": "1ihJf9RYF5jr",
        "outputId": "867b42ac-dc1d-453a-9da7-1a09442f441e"
      },
      "outputs": [
        {
          "output_type": "stream",
          "name": "stdout",
          "text": [
            "2\n"
          ]
        }
      ],
      "source": [
        "print(6 // 3)"
      ]
    },
    {
      "cell_type": "markdown",
      "metadata": {
        "id": "Hz62lxN6F1n6"
      },
      "source": [
        "Como se puede observar, *una división de entero entre entero* da un **resultado entero**. Todos los demás casos producen flotantes.\n",
        "\n",
        "Hagamos algunas pruebas mas avanzadas.\n",
        "\n",
        "Observa el siguiente fragmento de código:\n",
        "\n",
        "```\n",
        "print(6 // 4)\n",
        "print(6. // 4)\n",
        "```\n",
        "\n"
      ]
    },
    {
      "cell_type": "code",
      "execution_count": null,
      "metadata": {
        "colab": {
          "base_uri": "https://localhost:8080/"
        },
        "id": "2iVlmspTGUwb",
        "outputId": "85c1ada3-0318-4843-a343-6c8bc17bd5a0"
      },
      "outputs": [
        {
          "output_type": "stream",
          "name": "stdout",
          "text": [
            "1\n",
            "1.0\n"
          ]
        }
      ],
      "source": [
        "print(6 // 4)\n",
        "print(6. // 4)"
      ]
    },
    {
      "cell_type": "markdown",
      "metadata": {
        "id": "QPk0wftlGN1E"
      },
      "source": [
        "Imagina que se utilizó `/` en lugar de `//` - ¿Podrías predecir los resultados?\n",
        "\n",
        "Si, sería `1.5` en ambos casos. Eso esta claro.\n",
        "\n",
        "Pero, ¿Qué resultado se debería esperar con una división `//`?\n",
        "\n",
        "Ejecuta el código y observa por ti mismo.\n",
        "\n",
        "Lo que se obtiene son dos unos, uno entero y uno flotante.\n",
        "\n",
        "El resultado de la división entera siempre se redondea al valor entero inferior mas cercano del resultado de la división no redondeada.\n",
        "\n",
        "Esto es muy importante: **el redondeo siempre va hacia abajo**.\n",
        "\n",
        "Observa el código e intenta predecir el resultado nuevamente:\n",
        "\n",
        "```\n",
        "print(-6 // 4)\n",
        "print(6. // -4)\n",
        "```\n"
      ]
    },
    {
      "cell_type": "code",
      "execution_count": null,
      "metadata": {
        "colab": {
          "base_uri": "https://localhost:8080/"
        },
        "id": "tAM7MiC0Hl5E",
        "outputId": "cf38f57d-cc3c-42ce-c8db-9524c67a4b21"
      },
      "outputs": [
        {
          "output_type": "stream",
          "name": "stdout",
          "text": [
            "-2\n",
            "-2.0\n"
          ]
        }
      ],
      "source": [
        "print(-6 // 4)\n",
        "print(6. // -4)"
      ]
    },
    {
      "cell_type": "markdown",
      "metadata": {
        "id": "-z7EaDN-HkGR"
      },
      "source": [
        "Nota: Algunos de los valores son negativos. Esto obviamente afectara el resultado. ¿Pero cómo?\n",
        "\n",
        "El resultado es un par de dos negativos. El resultado real (no redondeado) es `-1.5` en ambo casos. Sin embargo, los resultados se redondean. El **redondeo se hace hacia el valor inferior entero**, dicho valor es `-2`, por lo tanto los resultados son: `-2` y `-2.0`.\n",
        "\n",
        "**NOTA**\n",
        "\n",
        "La division entera también se le suele llamar en inglés **floor division**. Más adelante te cruzarás con este término."
      ]
    },
    {
      "cell_type": "markdown",
      "metadata": {
        "id": "EUod9_mpH9gC"
      },
      "source": [
        "## **Operadores: residuo (módulo)**\n",
        "\n",
        "El siguiente operador es uno muy peculiar, porque no tiene un equivalente dentro de los operadores aritméticos tradicionales.\n",
        "\n",
        "Su representación gráfica en Python es el símbolo de `%` (porcentaje), lo cual puede ser un poco confuso.\n",
        "\n",
        "Piensa en el como una diagonal (operador de división) acompañado por dos pequeños círculos.\n",
        "\n",
        "El resultado de la operación es el **residuo que queda de la división entera**.\n",
        "\n",
        "En otras palabras, es el valor que sobra después de dividir un valor entre otro para producir un resultado entero.\n",
        "\n",
        "Nota: el operador en ocasiones también es denominado **módulo** en otros lenguajes de programación.\n",
        "\n",
        "Observa el fragmento de código â intenta predecir el resultado y después ejecútalo:\n",
        "\n",
        "```\n",
        "print(14 % 4)\n",
        "```\n",
        "\n",
        "Como puedes observar, el resultado es dos. Esta es la razón:\n",
        "\n",
        "- `14 // 4` da como resultado un `3` → esta es la parte entera, es decir el **cociente**.\n",
        "- `3 * 4` da como resultado `12` → como resultado de **la multiplicación entre el cociente y el divisor**.\n",
        "- `14 - 12` da como resultado `2` → este es el **residuo**.\n",
        "\n",
        "El siguiente ejemplo es un poco mas complicado:\n",
        "\n",
        "```\n",
        "print(12 % 4.5)\n",
        "```\n",
        "\n",
        "¿Cuál es el resultado?\n",
        "\n",
        "Revisar\n",
        "\n",
        "# **Operadores: como no dividir**\n",
        "\n",
        "Como probablemente sabes, la **división entre cero no funciona**.\n",
        "\n",
        "No intentes:\n",
        "\n",
        "- Dividir entre cero.\n",
        "- Realizar una división entera entre cero.\n",
        "- Encontrar el residuo de una división entre cero."
      ]
    },
    {
      "cell_type": "code",
      "execution_count": null,
      "metadata": {
        "colab": {
          "base_uri": "https://localhost:8080/"
        },
        "id": "taQINjp6EXUn",
        "outputId": "9b89b233-70f7-4536-cb59-ec29232f6974"
      },
      "outputs": [
        {
          "output_type": "stream",
          "name": "stdout",
          "text": [
            "2\n"
          ]
        }
      ],
      "source": [
        "print(14 % 4)"
      ]
    },
    {
      "cell_type": "markdown",
      "metadata": {
        "id": "maJjeGcmIMAK"
      },
      "source": [
        "## **Operadores: suma**\n",
        "\n",
        "El símbolo del operador de **suma** es el `+` (signo de más), el cual esta completamente alineado a los estándares matemáticos.\n",
        "\n",
        "De nuevo, observa el siguiente fragmento de código:\n",
        "\n",
        "```\n",
        "print(-4 + 4)\n",
        "print(-4. + 8)\n",
        "```\n",
        "\n",
        "El resultado no debe de sorprenderte. Ejecuta el código y revisa los resultados."
      ]
    },
    {
      "cell_type": "code",
      "execution_count": null,
      "metadata": {
        "colab": {
          "base_uri": "https://localhost:8080/"
        },
        "id": "V37kn0aLI2cn",
        "outputId": "6760c748-cecd-46f3-e7fb-1e14512218fd"
      },
      "outputs": [
        {
          "name": "stdout",
          "output_type": "stream",
          "text": [
            "0\n",
            "4.0\n"
          ]
        }
      ],
      "source": [
        "print(-4 + 4)\n",
        "print(-4. + 8)"
      ]
    },
    {
      "cell_type": "markdown",
      "metadata": {
        "id": "QuvcH5LcITzz"
      },
      "source": [
        "## **El operador de resta, operadores unarios y binarios**\n",
        "\n",
        "El símbolo del operador de **resta** es obviamente `-` (el signo de menos), sin embargo debes notar que este operador tiene otra función - **puede cambiar el signo de un número**.\n",
        "\n",
        "Esta es una gran oportunidad para mencionar una distinción muy importante entre operadores **unarios** y **binarios**.\n",
        "\n",
        "En aplicaciones de resta, el **operador de resta espera dos argumentos**: el izquierdo (un **minuendo** en términos aritméticos) y el derecho (un **sustraendo**).\n",
        "\n",
        "Por esta razón, el operador de resta es considerado uno de los operadores binarios, así como los demás operadores de suma, multiplicación y división.\n",
        "\n",
        "Pero el operador negativo puede ser utilizado de una forma diferente, observa la ultima línea de código del siguiente fragmento:\n",
        "\n",
        "```\n",
        "print(-4 - 4)\n",
        "print(4. - 8)\n",
        "print(-1.1)\n",
        "```\n",
        "\n",
        "Por cierto: también hay un operador `+` unario. Se puede utilizar de la siguiente manera:\n",
        "\n",
        "```\n",
        "print(+2)\n",
        "```\n",
        "\n",
        "El operador conserva el signo de su único argumento, el de la derecha.\n",
        "\n",
        "Aunque dicha construcción es sintácticamente correcta, utilizarla no tiene mucho sentido, y sería difícil encontrar una buena razón para hacerlo.\n",
        "\n",
        "Observa el fragmento de código que está arriba - ¿Puedes adivinar el resultado o salida?"
      ]
    },
    {
      "cell_type": "code",
      "execution_count": null,
      "metadata": {
        "id": "wEEedy8TJNjq",
        "colab": {
          "base_uri": "https://localhost:8080/"
        },
        "outputId": "0fd673a8-859c-4569-9f3c-38bc8d35135a"
      },
      "outputs": [
        {
          "output_type": "stream",
          "name": "stdout",
          "text": [
            "-8\n",
            "-4.0\n",
            "-1.1\n",
            "2\n"
          ]
        }
      ],
      "source": [
        "print(-4 - 4)\n",
        "print(4. - 8)\n",
        "print(-1.1)\n",
        "\n",
        "print(+2)"
      ]
    },
    {
      "cell_type": "markdown",
      "metadata": {
        "id": "tBi9R_WIJgsF"
      },
      "source": [
        "## **Operadores y sus prioridades**\n",
        "\n",
        "Hasta ahora, se ha tratado cada operador como si no tuviera relación con los otros. Obviamente, dicha situación tan simple e ideal es muy rara en la programación real.\n",
        "\n",
        "También, muy seguido encontrarás más de un operador en una expresión, y entonces esta presunción ya no es tan obvia.\n",
        "\n",
        "Considera la siguiente expresión:\n",
        "\n",
        "```\n",
        "2 + 3 * 5\n",
        "```\n",
        "\n",
        "Probablemente recordaras de la escuela que las **multiplicaciones preceden a las sumas**.\n",
        "\n",
        "Seguramente recordaras que primero se debe multiplicar 3 por 5, mantener el 15 en tu memoria y después sumar el 2, dando como resultado el 17.\n",
        "\n",
        "El fenómeno que causa que algunos operadores actúen antes que otros es conocido como **la jerarquía de prioridades**.\n",
        "\n",
        "Python define la jerarquía de todos los operadores, y asume que los operadores de mayor jerarquía deben realizar sus operaciones antes que los de menor jerarquía.\n",
        "\n",
        "Entonces, si se sabe que la `*` tiene una mayor prioridad que la `+`, el resultado final debe de ser obvio.\n",
        "\n",
        "# **Operadores y sus enlaces**\n",
        "\n",
        "El **enlace** de un operador determina el orden en que se computan las operaciones de los operadores con la misma prioridad, los cuales se encuentran dentro de una misma expresión.\n",
        "\n",
        "La mayoría de los operadores de Python tienen un enlazado hacia la izquierda, lo que significa que el calculo de la expresión es realizado de izquierda a derecha.\n",
        "\n",
        "Este simple ejemplo te mostrará como funciona. Observa:\n",
        "\n",
        "```\n",
        "print(9 % 6 % 2)\n",
        "```\n",
        "\n",
        "Existen dos posibles maneras de evaluar la expresión:\n",
        "\n",
        "- De izquierda a derecha: primero `9 % 6` da como resultado `3`, y entonces `3 % 2` da como resultado `1`.\n",
        "- De derecha a izquierda: primero `6 % 2` da como resultado `0`, y entonces `9 % 0` causa **un error fatal**.\n",
        "\n",
        "Ejecuta el ejemplo y observa lo que se obtiene.\n",
        "\n",
        "El resultado debe ser `1`. El operador tiene un **enlazado hacia la izquierda**. Pero hay una excepción interesante."
      ]
    },
    {
      "cell_type": "code",
      "execution_count": null,
      "metadata": {
        "id": "4fceQpUfJ11Y",
        "colab": {
          "base_uri": "https://localhost:8080/"
        },
        "outputId": "9d885ffa-e0bd-4f52-d0b4-c1c8c4d04008"
      },
      "outputs": [
        {
          "output_type": "stream",
          "name": "stdout",
          "text": [
            "1\n"
          ]
        }
      ],
      "source": [
        "print(9 % 6 % 2)"
      ]
    },
    {
      "cell_type": "markdown",
      "metadata": {
        "id": "N1Xz_Ce-Kxtt"
      },
      "source": [
        "## **¿Qué son las Variables?**\n",
        "\n",
        "Es justo que Python nos permita codificar literales, las cuales contengan valores numéricos y cadenas.\n",
        "\n",
        "Ya hemos visto que se pueden hacer operaciones aritméticas con estos números: sumar, restar, etc. Esto se hará una infinidad de veces en un programa.\n",
        "\n",
        "Pero es normal preguntar como es que se pueden **almacenar los resultados** de estas operaciones, para poder emplearlos en otras operaciones, y así sucesivamente.\n",
        "\n",
        "¿Cómo almacenar los resultados intermedios, y después utilizarlos de nuevo para producir resultados subsecuentes?\n",
        "\n",
        "Python ayudará con ello. Python ofrece \"cajas\" (contenedores) especiales para este propósito, estas cajas son llamadas **variables** - el nombre mismo sugiere que el contenido de estos contenedores puede variar en casi cualquier forma.\n",
        "\n",
        "¿Cuáles son los componentes o elementos de una variable en Python?\n",
        "\n",
        "- Un nombre.\n",
        "- Un valor (el contenido del contenedor).\n",
        "\n",
        "Comencemos con lo relacionado al nombre de la variable.\n",
        "\n",
        "Las variables no aparecen en un programa automáticamente. Como desarrollador, tu debes decidir cuantas variables deseas utilizar en tu programa.\n",
        "\n",
        "También las debes de nombrar.\n",
        "\n",
        "Si se desea **nombrar una variable**, se deben seguir las siguientes reglas:\n",
        "\n",
        "- El nombre de la variable debe de estar compuesto por MAYUSCULAS, minúsculas, dígitos, y el carácter `_` (guion bajo).\n",
        "- El nombre de la variable debe comenzar con una letra.\n",
        "- El carácter guion bajo es considerado una letra.\n",
        "- Las mayúsculas y minúsculas se tratan de forma distinta (un poco diferente que en el mundo real -  y  son el mismo nombre, pero en Python son dos nombres de variable distintos, subsecuentemente, son dos variables diferentes).\n",
        "\n",
        "    *Alicia*\n",
        "\n",
        "    *ALICIA*\n",
        "\n",
        "- El nombre de las variables no pueden ser igual a alguna de las palabras reservadas de Python (se explicará más de esto pronto).\n",
        "\n",
        "![https://edube.org/uploads/media/default/0001/01/g6061.png](https://edube.org/uploads/media/default/0001/01/g6061.png)"
      ]
    },
    {
      "cell_type": "markdown",
      "metadata": {
        "id": "B-8RpmTvOJg2"
      },
      "source": [
        "## **Conversión de datos o casting**\n",
        "\n",
        "Python ofrece dos simples funciones para especificar un tipo de dato y resolver este problema, aquí están: `int()` y `float()`.\n",
        "\n",
        "Sus nombres indican cual es su función:\n",
        "\n",
        "- La función `int()` **toma un argumento** (por ejemplo, una cadena: `int(string)`) e intenta convertirlo a un valor entero; si llegase a fallar, el programa entero fallará también (existe una manera de solucionar esto, se explicará mas adelante).\n",
        "- La función `float()` toma un argumento (por ejemplo, una cadena: `float(string)`) e intenta convertirlo a flotante (el resto es lo mismo).\n",
        "\n",
        "Esto es muy simple y muy efectivo. Sin embargo, estas funciones se pueden invocar directamente pasando el resultado de la función `input()` directamente. No hay necesidad de emplear variables como almacenamiento intermedio.\n",
        "\n",
        "Se ha implementado esta idea en el editor, observa el código.\n",
        "\n",
        "¿Puedes imaginar como la cadena introducida por el usuario fluye desde la función `input()` hacía la función `print()`?\n",
        "\n",
        "Intenta ejecutar el código modificado. No olvides introducir un **número valido**.\n",
        "\n",
        "Prueba con diferentes valores, pequeños, grandes, negativos y positivos. El cero también es un buen valor a introducir."
      ]
    },
    {
      "cell_type": "code",
      "execution_count": null,
      "metadata": {
        "colab": {
          "base_uri": "https://localhost:8080/"
        },
        "id": "Lz7BtNqoOXXq",
        "outputId": "7e6b4dfd-a01e-4b96-9f0d-dac7f85acc23"
      },
      "outputs": [
        {
          "output_type": "stream",
          "name": "stdout",
          "text": [
            "Inserta un número: 20\n",
            "20.0 al cuadrado es 400.0\n"
          ]
        }
      ],
      "source": [
        "algo = float(input(\"Inserta un número: \"))\n",
        "resultado = algo ** 2.0\n",
        "print(algo, \"al cuadrado es\", resultado)"
      ]
    },
    {
      "cell_type": "markdown",
      "metadata": {
        "id": "2tMXMbltO8Lc"
      },
      "source": [
        "*texto en cursiva*# **Más acerca de la función input() y tipos de conversión**\n",
        "\n",
        "El tener un equipo compuesto por `input()`-`int()`-`float()` abre muchas nuevas posibilidades.\n",
        "\n",
        "Eventualmente serás capaz de escribir programas completos, los cuales acepten datos en forma de números, los cuales serán procesados y se mostrarán los resultados.\n",
        "\n",
        "Por supuesto, estos programas serán muy primitivos y no muy utilizables, debido a que no pueden tomar decisiones, y consecuentemente no son capaces de reaccionar acorde a cada situación.\n",
        "\n",
        "Sin embargo, esto no es un problema; se explicará como solucionarlo pronto.\n",
        "\n",
        "---\n",
        "\n",
        "El siguiente ejemplo hace referencia al programa anterior que calcula la longitud de la hipotenusa. Vamos a reescribirlo, para que pueda leer las longitudes de los catetos desde la consola.\n",
        "\n",
        "Revisa la ventana del editor, así es como se ve ahora.\n",
        "\n",
        "Este programa le preguntó al usuario los dos catetos, calcula la hipotenusa e imprime el resultado.\n",
        "\n",
        "Ejecútalo de nuevo e intenta introducir valores negativos.\n",
        "\n",
        "El programa desafortunadamente, no reacciona correctamente a este error.\n",
        "\n",
        "Vamos a ignorar esto por ahora. Regresaremos a ello pronto.\n",
        "\n",
        "---\n",
        "\n",
        "Debido a que la función `print()` acepta una expresión como argumento, se puede **quitar la variable** del código.\n",
        "\n",
        "Como se muestra en el siguiente código:\n",
        "\n",
        "```\n",
        "cateto_a = float(input(\"Inserta la longitud del primer cateto: \"))\n",
        "cateto_b = float(input(\"Inserta la longitud del segundo cateto \"))\n",
        "print(\"La longitud de la hipotenusa es: \", (cateto_a**2 + cateto_b**2) ** .5)\n",
        "```"
      ]
    },
    {
      "cell_type": "code",
      "execution_count": null,
      "metadata": {
        "id": "1JaaKrg0O_z5"
      },
      "outputs": [],
      "source": [
        "cateto_a = float(input(\"Inserta la longitud del primer cateto: \"))\n",
        "cateto_b = float(input(\"Inserta la longitud del segundo cateto \"))\n",
        "hipo = (cateto_a**2 + cateto_b**2) ** .5\n",
        "print(\"La longitud de la hipotenusa es: \", hipo)"
      ]
    },
    {
      "cell_type": "markdown",
      "metadata": {
        "id": "Qcp9LZaGPWIa"
      },
      "source": [
        "## **Operadores de cadenas - introducción**\n",
        "\n",
        "Es tiempo de regresar a estos dos operadores aritméticos: `+` y `*`.\n",
        "\n",
        "Ambos tienen una función secundaría. Son capaces de hacer algo más que **sumar** y **multiplicar**.\n",
        "\n",
        "Los hemos visto en acción cuando sus argumentos son (flotantes o enteros).\n",
        "\n",
        "Ahora veremos que son capaces también de manejar o manipular cadenas, aunque, en una manera muy específica.\n",
        "\n",
        "# **Concatenación**\n",
        "\n",
        "El sigo de `+` (más), al ser aplicado a dos cadenas, se convierte en **un operador de concatenación**:\n",
        "\n",
        "```\n",
        "string + string\n",
        "```\n",
        "\n",
        "Simplemente **concatena** (junta) dos cadenas en una. Además, puede ser utilizado más de una vez en una misma expresión.\n",
        "\n",
        "En contraste con el operador aritmético, el operador de concatenación no es **conmutativo**, por ejemplo, `\"ab\" + \"ba\"` no es lo mismo que `\"ba\" + \"ab\"`.\n",
        "\n",
        "No olvides, si se desea que el signo `+` sea un **concatenador**, no un sumador, solo se debe asegurar que **ambos argumentos sean cadenas**.\n",
        "\n",
        "No se pueden mezclar los tipos de datos aquí.\n",
        "\n",
        "---\n",
        "\n",
        "Este es un programa sencillo que muestra como funciona el signo `+` como concatenador:\n",
        "\n",
        "```\n",
        "nom = input(\"¿Me puedes dar tu nombre por favor? \")\n",
        "ape = input(\"¿Me puedes dar tu apellido por favor? \")\n",
        "print(\"Gracias.\")\n",
        "print(\"\\nTu nombre es \" + nom + \" \" + ape + \".\")\n",
        "```\n",
        "\n",
        "Nota: El utilizar `+` para concatenar cadenas te permite construir la salida de una manera más precisa, en comparación de utilizar únicamente la función `print()`, aún cuando se enriquezca con los argumentos `end=` y `sep=`.\n",
        "\n",
        "Ejecuta el código y comprueba si la salida es igual a tus predicciones."
      ]
    },
    {
      "cell_type": "code",
      "execution_count": null,
      "metadata": {
        "id": "IGh7ndRGZ3La"
      },
      "outputs": [],
      "source": [
        "print(1//2*3)"
      ]
    },
    {
      "cell_type": "code",
      "execution_count": null,
      "metadata": {
        "id": "5q1C_SQvbxka"
      },
      "outputs": [],
      "source": [
        "nom = input(\"¿Me puedes dar tu nombre por favor? \")\n",
        "ape = input(\"¿Me puedes dar tu apellido por favor? \")\n",
        "print(\"Gracias.\")\n",
        "print(\"\\nTu nombre es \" + nom + \" \" + ape + \".\")"
      ]
    },
    {
      "cell_type": "markdown",
      "metadata": {
        "id": "vL7iyd7sdSAL"
      },
      "source": [
        "# ****Fundamentos de Programación en Python: Módulo 3****\n",
        "\n",
        "**En este módulo, aprenderás sobre:**\n",
        "\n",
        "- Valores booleanos.\n",
        "- Instrucciones if-elif-else.\n",
        "- Bucles while y for.\n",
        "- Control de flujo.\n",
        "- Operaciones lógicas y bit a bit.\n",
        "- Listas y arreglos.\n",
        "\n",
        "![https://edube.org/uploads/media/default/0001/01/module3.png](https://edube.org/uploads/media/default/0001/01/module3.png)\n",
        "\n",
        "Un programador escribe un programa y **el programa hace preguntas**.\n",
        "\n",
        "Una computadora ejecuta el programa y **proporciona las respuestas**. El programa debe ser capaz de **reaccionar de acuerdo con las respuestas recibidas**.\n",
        "\n",
        "Afortunadamente, las computadoras solo conocen dos tipos de respuestas:\n",
        "\n",
        "- Si, es cierto.\n",
        "- No, esto es falso.\n",
        "\n",
        "Nunca obtendrás una respuesta como *Déjame pensar ...*, *no lo sé*, o *probablemente sí, pero no lo sé con seguridad*.\n",
        "\n",
        "**Para hacer preguntas, Python utiliza un conjunto de operadores muy especiales**. Revisemos uno tras otro, ilustrando sus efectos en algunos ejemplos simples.\n",
        "\n",
        "## **Comparación: operador de igualdad**\n",
        "\n",
        "Pregunta: ¿**Son dos valores iguales**?\n",
        "\n",
        "Para hacer esta pregunta, se utiliza el `==` Operador (igual igual).\n",
        "\n",
        "No olvides esta importante distinción:\n",
        "\n",
        "- `=` es un **operador de asignación**, por ejemplo, `a = b` asigna a la varable `a` el valor de `b`.\n",
        "- `==` es una pregunta ; `a == b` **compara** `a` y `b`.\n",
        "\n",
        "    *¿Son estos valores iguales?*\n",
        "\n",
        "Es un **operador binario con enlazado a la izquierda**. Necesita dos argumentos y **verifica si son iguales**.\n",
        "\n",
        "## **Ejercicios**\n",
        "\n",
        "Ahora vamos a hacer algunas preguntas. Intenta adivinar las respuestas.\n",
        "\n",
        "**Pregunta #1**: ¿Cuál es el resultado de la siguiente comparación?\n",
        "\n",
        "`2 = 2`    Revisar\n",
        "\n",
        "`True (verdadero)` - por supuesto, 2 es igual a 2. Python responderá `True` (Recuerda este par de literales predefinidos, `True` y `False` - También son palabras clave de Python).\n",
        "\n",
        "---\n",
        "\n",
        "**Pregunta # 2**: ¿Cuál es el resultado de la siguiente comparación?\n",
        "\n",
        "`2 == 2.`    Revisar\n",
        "\n",
        "Esta pregunta no es tan fácil como la primera. Por suerte, Python es capaz de convertir el valor entero en su equivalente real, y en consecuencia, la respuesta es `True`\n",
        "\n",
        "---\n",
        "\n",
        "**Pregunta # 3**: ¿Cuál es el resultado de la siguiente comparación?\n",
        "\n",
        "`1 == 2`    Revisar\n",
        "\n",
        "Esto debería ser fácil. La respuesta será (o mejor dicho, siempre es) `False`."
      ]
    },
    {
      "cell_type": "markdown",
      "metadata": {
        "id": "k7zs3XgGiYi2"
      },
      "source": [
        "## **Igualdad: El operador *igual a* (==)**\n",
        "\n",
        "El operador `==` (igual a) compara los valores de dos operandos. Si son iguales, el resultado de la comparación es `True`. Si no son iguales, el resultado de la comparación es `False`.\n",
        "\n",
        "Observa la comparación de igualdad a continuación: ¿Cuál es el resultado de esta operación?\n",
        "\n",
        "```\n",
        "var== 0\n",
        "```\n",
        "\n",
        "Ten en cuenta que no podemos encontrar la respuesta si no sabemos qué valor está almacenado actualmente en la variable `(var)`.\n",
        "\n",
        "Si la variable se ha cambiado muchas veces durante la ejecución del programa, o si se ingresa su valor inicial desde la consola, Python solo puede responder a esta pregunta en el tiempo de ejecución del programa.\n",
        "\n",
        "Ahora imagina a un programador que sufre de insomnio, y tiene que contar las ovejas negras y blancas por separado siempre y cuando haya exactamente el doble de ovejas negras que de las blancas.\n",
        "\n",
        "La pregunta será la siguiente:\n",
        "\n",
        "```\n",
        "ovejasNegras== 2 * ovejasBlancas\n",
        "```\n",
        "\n",
        "Debido a la baja prioridad de el operador `==` ,la pregunta será tratada como la siguiente:\n",
        "\n",
        "```\n",
        "ovejasNegras== (2 * ovejaBlancas)\n",
        "```\n",
        "\n",
        "---\n",
        "\n",
        "Entonces, vamos a practicar la comprensión del operador `==` - ¿Puedes adivinar la salida del código a continuación?\n",
        "\n",
        "```\n",
        "var = 0 # asignando 0 a var\n",
        "print(var== 0)\n",
        "\n",
        "var = 1 # asignando 1 a var\n",
        "print(var== 0)\n",
        "```\n",
        "\n",
        "Ejecuta el código y comprueba si tenías razón.\n",
        "\n",
        "## **Desigualdad: el operador *no es igual a* (!=)**\n",
        "\n",
        "El operador `!=` (no es igual a) también compara los valores de dos operandos. Aquí está la diferencia: si son iguales, el resultado de la comparación es `False`. Si no son iguales, el resultado de la comparación es `True`.\n",
        "\n",
        "Ahora echa un vistazo a la comparación de desigualdad a continuación: ¿Puedes adivinar el resultado de esta operación?\n",
        "\n",
        "```\n",
        "var = 0 # asignando 0 a var\n",
        "print(var!= 0)\n",
        "\n",
        "var = 1 # asignando 1 a var\n",
        "print(var!= 0)\n",
        "```\n",
        "\n",
        "Ejecuta el código y comprueba si tenías razón."
      ]
    },
    {
      "cell_type": "code",
      "execution_count": null,
      "metadata": {
        "colab": {
          "base_uri": "https://localhost:8080/"
        },
        "id": "One0peZNikvf",
        "outputId": "3e1e2d23-6d82-4464-c0c8-839d0233846f"
      },
      "outputs": [
        {
          "output_type": "stream",
          "name": "stdout",
          "text": [
            "True\n"
          ]
        }
      ],
      "source": [
        "var=0\n",
        "print(var==0)"
      ]
    },
    {
      "cell_type": "markdown",
      "metadata": {
        "id": "R2VBf7SdjUzU"
      },
      "source": [
        "## **Operadores de Comparación: Mayor que**\n",
        "\n",
        "También se puede hacer una pregunta de comparación usando el operador `>` (mayor que).\n",
        "\n",
        "Si deseas saber si hay más ovejas negras que blancas, puedes escribirlo de la siguiente manera:\n",
        "\n",
        "```\n",
        "ovejasNegras> ovejasBlancas # mayor que.\n",
        "```\n",
        "\n",
        "`True` lo confirma; `False` lo niega.\n",
        "\n",
        "## **Operadores de Comparación: Mayor o igual que**\n",
        "\n",
        "El operador *mayor que* tiene otra variante especial, una variante **no estricta**, pero se denota de manera diferente que la notación aritmética clásica: `>=` (mayor o igual que).\n",
        "\n",
        "Hay dos signos subsecuentes, no uno.\n",
        "\n",
        "Ambos operadores (estrictos y no estrictos), así como los otros dos que se analizan en la siguiente sección, son **operadores binarios con enlace en el lado izquierdo**, y su **prioridad es mayor que la mostrada por `==` y `!=`**.\n",
        "\n",
        "Si queremos saber si tenemos que usar un gorro o no, nos hacemos la siguiente pregunta:\n",
        "\n",
        "```\n",
        "centigradosAfuera≥ 0.0 # mayor o igual a.\n",
        "```\n",
        "\n",
        "## **Operadores de Comparación: Menor o igual que**\n",
        "\n",
        "Como probablemente ya hayas adivinado, los operadores utilizados en este caso son: El operador `<` (menor que) y su hermano no estricto: `<=` (menor o igual que).\n",
        "\n",
        "Mira este ejemplo simple:\n",
        "\n",
        "```\n",
        "velocidadMph< 85 # menor que.\n",
        "velocidadMph≤ 85 # menor o igual que.\n",
        "```\n",
        "\n",
        "Vamos a comprobar si existe un riesgo de ser multados (la primera pregunta es estricta, la segunda no).\n",
        "\n",
        "## **Aprovechando las respuestas**\n",
        "\n",
        "¿Qué puedes hacer con la respuesta (es decir, el resultado de una operación de comparación) que se obtiene de la computadora?\n",
        "\n",
        "Hay al menos dos posibilidades: primero, puedes memorizarlo (**almacenarlo en una variable**) y utilizarlo más tarde. ¿Cómo haces eso? Bueno, utilizarías una variable arbitraria como esta:\n",
        "\n",
        "```\n",
        "respuesta = numerodeLeones >= numerodeLeonas\n",
        "```\n",
        "\n",
        "El contenido de la variable te dirá la respuesta a la pregunta.\n",
        "\n",
        "La segunda posibilidad es más conveniente y mucho más común: puedes utilizar la respuesta que obtengas para **tomar una decisión sobre el futuro del programa.**\n",
        "\n",
        "Necesitas una instrucción especial para este propósito, y la discutiremos muy pronto.\n",
        "\n",
        "Ahora necesitamos actualizar nuestra **tabla de prioridades** , y poner todos los nuevos operadores en ella. Ahora se ve como a continuación:\n"
      ]
    },
    {
      "cell_type": "markdown",
      "metadata": {
        "id": "VffUSvQKkqCL"
      },
      "source": [
        "![2021-08-12_08h33_28.png](data:image/png;base64,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)"
      ]
    },
    {
      "cell_type": "markdown",
      "metadata": {
        "id": "jXPUcrxlk7eK"
      },
      "source": [
        "### **Ejercicio en Clase**\n",
        "## **Tiempo Estimado**\n",
        "\n",
        "5 minutos\n",
        "\n",
        "## **Nivel de dificultad**\n",
        "\n",
        "Muy Fácil\n",
        "\n",
        "## **Objetivos**\n",
        "\n",
        "- Familiarizarse con la función `input()`.\n",
        "- Familiarizarse con los operadores de comparación en Python.\n",
        "\n",
        "## **Escenario**\n",
        "\n",
        "Usando uno de los operadores de comparación en Python, escribe un programa simple de dos líneas que tome el parámetro `n` como entrada, que es un entero, e imprime `False` si `n` es menor que `100`, y `True` si `n` es mayor o igual que `100`.\n",
        "\n",
        "No debes crear ningún bloque `if` (hablaremos de ellos muy pronto). Prueba tu código usando los datos que te proporcionamos.\n",
        "\n",
        "## **Datos de prueba**\n",
        "\n",
        "Ejemplo de entrada: `55`\n",
        "\n",
        "Resultado esperado: `False`\n",
        "\n",
        "---\n",
        "\n",
        "Ejemplo de entrada: `99`\n",
        "\n",
        "Resultado esperado: `False`\n",
        "\n",
        "---\n",
        "\n",
        "Ejemplo de entrada: `100`\n",
        "\n",
        "Resultado esperado: `True`\n",
        "\n",
        "---\n",
        "\n",
        "Ejemplo de entrada: `101`\n",
        "\n",
        "Resultado esperado: `True`\n",
        "\n",
        "---\n",
        "\n",
        "Ejemplo de entrada: `-5`\n",
        "\n",
        "Resultado esperado: `False`\n",
        "\n",
        "---\n",
        "\n",
        "Ejemplo de entrada: `+123`\n",
        "\n",
        "Resultado esperado: `True`"
      ]
    },
    {
      "cell_type": "code",
      "execution_count": null,
      "metadata": {
        "colab": {
          "base_uri": "https://localhost:8080/"
        },
        "id": "4QKMbdok4F49",
        "outputId": "c425d659-ec34-4746-f49a-2acbd72837c2"
      },
      "outputs": [
        {
          "name": "stdout",
          "output_type": "stream",
          "text": [
            "Digite su numero :100\n",
            "True\n"
          ]
        }
      ],
      "source": [
        "n=int(input(\"Digite su numero :\"))\n",
        "print(n>=100)"
      ]
    },
    {
      "cell_type": "markdown",
      "metadata": {
        "id": "92PoMJV42d-7"
      },
      "source": [
        "## **Ejecución condicional: La declaración if**\n",
        "\n",
        "Si un determinado desarrollador de Python sin dormir se queda dormido cuando cuenta 120 ovejas, y el procedimiento de inducción del sueño se puede implementar como una función especial llamada `dormirSoñar()`, todo el código toma la siguiente forma:\n",
        "\n",
        "```\n",
        "if contadordeOvejas >= 120: #evalúa una expresión de prueba.\n",
        "    dormirSoñar() #se ejecuta si la expresión de prueba es Verdadera.\n",
        "```\n",
        "\n",
        "Puedes leerlo como sigue: si `contadorOvejas` es mayor o igual que `120`, entonces duerme y sueña (es decir, ejecuta la función `duermeSueña`.)\n",
        "\n",
        "---\n",
        "\n",
        "Hemos dicho que las **declaraciones condicionales deben tener sangría**. Esto crea una estructura muy legible, demostrando claramente todas las rutas de ejecución posibles en el código.\n",
        "\n",
        "Echa un vistazo al siguiente código:\n",
        "\n",
        "```\n",
        "if contadorOvejas >= 120:\n",
        "    hacerCama()\n",
        "    tomarDucha()\n",
        "    dormirSoñar()\n",
        "alimentarPerros()\n",
        "```\n",
        "\n",
        "Como puedes ver, tender la cama, tomar una ducha y dormir y soñar se ejecutan **condicionalmente**, cuando `contadorOvejas` alcanza el límite deseado.\n",
        "\n",
        "Alimentar a los perros, sin embargo, **siempre se hace** (es decir, la función `alimentarPerros` no tiene sangría y no pertenece al bloque `if`, lo que significa que siempre se ejecuta).\n",
        "\n",
        "Ahora vamos a discutir otra variante de la declaración condicional, que también permite realizar una acción adicional cuando no se cumple la condición.\n",
        "\n",
        "# **Ejecución condicional: la declaración if-else**\n",
        "\n",
        "Comenzamos con una frase simple que decÃa: *Si el clima es bueno, saldremos a caminar*.\n",
        "\n",
        "Nota: no hay una palabra sobre lo que suceder· si el clima es malo. Solo sabemos que no saldremos al aire libre, pero no sabemos que podríamos hacer. Es posible que también queramos planificar algo en caso de mal tiempo.\n",
        "\n",
        "Podemos decir, por ejemplo: *Si el clima es bueno, saldremos a caminar, de lo contrario, iremos al cine*.\n",
        "\n",
        "Ahora sabemos lo que haremos **si se cumplen las condiciones** , y sabemos lo que haremos **si no todo sale como queremos** . En otras palabras, tenemos un \"Plan B\".\n",
        "\n",
        "Python nos permite expresar dichos planes alternativos. Esto se hace con una segunda forma, ligeramente mas compleja, de la declaración condicional, la declaración *if-else* :\n",
        "\n",
        "```\n",
        "if condición_true_or_false:\n",
        "    ejecuta_si_condición_true\n",
        " else:\n",
        "    ejecuta_si_condición_false\n",
        "```\n",
        "\n",
        "Por lo tanto, hay una nueva palabra: `else` - esta es una **palabra reservada**.\n",
        "\n",
        "La parte del código que comienza con `else` dice que hacer si no se cumple la condición especificada por el `if` (observa los **dos puntos** después de la palabra).\n",
        "\n",
        "La ejecución de *if-else* es la siguiente:\n",
        "\n",
        "- Si la condición se evalúa como **Verdadero** (su valor no es igual a cero), la instrucción `ejecuta_si_condición_true` se ejecuta, y la declaración condicional llega a su fin.\n",
        "- Si la condición se evalúa como **Falso** (es igual a cero), la instrucción `ejecuta_si_condición_false` se ejecuta, y la declaración condicional llega a su fin."
      ]
    },
    {
      "cell_type": "markdown",
      "metadata": {
        "id": "_tlZk4lUmP58"
      },
      "source": [
        "## **Condiciones y ejecución condicional**\n",
        "\n",
        "Ya sabes como hacer preguntas a Python, pero aún no sabes como hacer un uso razonable de las respuestas. Se debe tener un mecanismo que le permita hacer algo **si se cumple una condición, y no hacerlo si no se cumple**.\n",
        "\n",
        "Es como en la vida real: haces ciertas cosas o no cuando se cumple una condición específica, por ejemplo, sales a caminar si el clima es bueno, o te quedas en casa si está húmedo y frío.\n",
        "\n",
        "Para tomar tales decisiones, Python ofrece una instrucción especial. Debido a su naturaleza y su aplicación, se denomina **instrucción condicional** (o declaración condicional).\n",
        "\n",
        "Existen varias variantes de la misma. Comenzaremos con la más simple, aumentando la dificultad lentamente.\n",
        "\n",
        "La primera forma de una declaración condicional, que puede ver a continuación, está escrita de manera muy informal pero figurada:\n",
        "\n",
        "```\n",
        "if cierto_o_no:\n",
        "    hacer_esto_si_cierto\n",
        "```\n",
        "\n",
        "Esta declaración condicional consta de los siguientes elementos, estrictamente necesarios en este orden:\n",
        "\n",
        "- La palabra clave `if`.\n",
        "- Uno o más espacios en blanco.\n",
        "- Una expresión (una pregunta o una respuesta) cuyo valor se interpretar únicamente en términos de `True` (cuando su valor no sea cero) y `False` (cuando sea igual a cero).\n",
        "- Unos **dos puntos** seguido de una nueva línea.\n",
        "- Una instrucción **con sangría** o un conjunto de instrucciones (se requiere absolutamente al menos una instrucción); la **sangría** se puede lograr de dos maneras: insertando un número particular de espacios (la recomendación es usar **cuatro espacios de sangría**), o usando el *tabulador*; nota: si hay mas de una instrucción en la parte con sangría, la sangría debe ser la misma en todas las líneas; aunque puede parecer lo mismo si se mezclan tabuladores con espacios, es importante que todas las sangrías **sean exactamente iguales** Python 3 **no permite mezclar espacios y tabuladores** para la sangría.\n",
        "\n",
        "    \n",
        "\n",
        "¿Cómo funciona esta declaración?\n",
        "\n",
        "- Si la expresión `cierto_o_no` **representa la verdad** (es decir, su valor no es igual a cero),**la(s) declaración(es) con sangría se ejecutará**.\n",
        "- Si la expresión `cierto_o_no` **no representa la verdad** (es decir, su valor es igual a cero), **las declaraciones con sangría se omitirá** , y la siguiente instrucción ejecutada será la siguiente al nivel de la sangría original.\n",
        "\n",
        "En la vida real, a menudo expresamos un deseo:\n",
        "\n",
        "*if el clima es bueno, saldremos a caminar*\n",
        "\n",
        "*después, almorzaremos*\n",
        "\n",
        "Como puedes ver, almorzar no es **una actividad condicional** y no depende del clima.\n",
        "\n",
        "Sabiendo que condiciones influyen en nuestro comportamiento y asumiendo que tenemos las funciones sin parámetros `irACaminar()` y `almorzar()`, podemos escribir el siguiente fragmento de código:\n",
        "\n",
        "```\n",
        "if ClimaEsBueno:\n",
        "    irAcaminar()\n",
        "almorzar()\n",
        "```"
      ]
    },
    {
      "cell_type": "code",
      "source": [
        ""
      ],
      "metadata": {
        "id": "k-6hE-D6PFyf"
      },
      "execution_count": null,
      "outputs": []
    },
    {
      "cell_type": "markdown",
      "metadata": {
        "id": "Dii0P2063HS-"
      },
      "source": [
        "## **La declaración if-else: más de ejecución condicional**\n",
        "\n",
        "Al utilizar esta forma de declaración condicional, podemos describir nuestros planes de la siguiente manera:\n",
        "\n",
        "```\n",
        "if climaEsBueno:\n",
        "    irACaminar()\n",
        "else:\n",
        "    irAlCine()\n",
        "almorzar()\n",
        "```\n",
        "\n",
        "Si el clima es bueno, saldremos a caminar. De lo contrario, iremos al cine. No importa si el clima es bueno o malo, almorzaremos después (después de la caminata o después de ir al cine).\n",
        "\n",
        "Todo lo que hemos dicho sobre la sangría funciona de la misma manera dentro de **la rama else** :\n",
        "\n",
        "```\n",
        "if climaEsBueno:\n",
        "    irACaminar()\n",
        "    Diviertirse()\n",
        "else:\n",
        "--->irAlCine()\n",
        "-->disfrutaLaPelicula()\n",
        "almorzar()\n",
        "```\n",
        "\n",
        "## **Declaraciones if-else anidadas**\n",
        "\n",
        "Ahora, analicemos dos casos especiales de la declaración condicional.\n",
        "\n",
        "Primero, considera el caso donde la instrucción **colocada después del `if`  es otro `if`**.\n",
        "\n",
        "Lee lo que hemos planeado para este domingo. Si hay buen clima, saldremos a caminar. Si encontramos un buen restaurante, almorzaremos allí. De lo contrario, vamos a comer un sandwich. Si hay mal clima, iremos al cine. Si no hay boletos, iremos de compras al centro comercial más cercano.\n",
        "\n",
        "Escribamos lo mismo en Python. Considera cuidadosamente el código aquí:\n",
        "\n",
        "```\n",
        "if climaEsBueno:\n",
        "    if encontramosBuenRestaurante:\n",
        "        almorzar()\n",
        "    else:\n",
        "        comerSandwich()\n",
        "else:\n",
        "    if hayBoletosDisponibles:\n",
        "        irAlCine()\n",
        "    else:\n",
        "        irDeCompras()\n",
        "```\n",
        "\n",
        "Aquí hay dos puntos importantes:\n",
        "\n",
        "- Este uso de la declaración`if` se conoce como **anidamiento**; recuerda que cada `else` se refiere al `if` que se encuentra **en el mismo nivel de sangría**; se necesita saber esto para determinar cómo se relacionan los s y loss.\n",
        "\n",
        "    *if*\n",
        "\n",
        "    *else*\n",
        "\n",
        "- Considera como la sangría **mejora la legibilidad** y hace que el código sea más fácil de entender y rastrear.\n",
        "\n",
        "## **La declaración elif**\n",
        "\n",
        "El segundo caso especial presenta otra nueva palabra clave de Python: **elif**. Como probablemente sospechas, es una forma más corta de **else-if**.\n",
        "\n",
        "`elif` se usa para **verificar más de una condición**, y para **detener** cuando se encuentra la primera declaración verdadera.\n",
        "\n",
        "Nuestro siguiente ejemplo se parece a la anidación, pero las similitudes son muy leves. Nuevamente, cambiaremos nuestros planes y los expresaremos de la siguiente manera: si hay buen clima, saldremos a caminar, de lo contrario, si obtenemos entradas, iremos al cine, de lo contrario, si hay mesas libres en el restaurante, vamos a almorzar; si todo falla, regresaremos a casa y jugaremos ajedrez.\n",
        "\n",
        "¿Has notado cuantas veces hemos usado la palabra *de lo contrario*? Esta es la etapa en la que la palabra clave `elif` desempeña su función.\n",
        "\n",
        "Escribamos el mismo escenario usando Python:\n",
        "\n",
        "```\n",
        "if climaBueno:\n",
        "    iraCaminar()\n",
        "elif hayBoletosDisponibles:\n",
        "    IralCine()\n",
        "elif mesasLibres:\n",
        "    almorzar()\n",
        "else:\n",
        "    jugarAjedrezEnCasa()\n",
        "```\n",
        "\n",
        "La forma de ensamblar las siguientes declaraciones *if-elif-else* a veces se denomina **cascada**.\n",
        "\n",
        "Observa de nuevo como la sangría mejora la legibilidad del código.\n",
        "\n",
        "Se debe prestar atención adicional a este caso:\n",
        "\n",
        "- **No debes usar `else` sin un `if`** precedente.\n",
        "- `Else` siempre es la **última rama de la cascada** , independientemente de si has usado `elif` o no.\n",
        "- `Else` es una parte **opcional** de la cascada, y puede omitirse.\n",
        "- Si hay una rama `else` en la cascada, solo se ejecuta una de todas las ramas.\n",
        "- Si no hay una rama `else`, es posible que no se ejecute ninguna de las opciones disponibles.\n",
        "\n",
        "Esto puede sonar un poco desconcertante, pero ojalá que algunos ejemplos simples ayuden a comprenderlo mejor."
      ]
    },
    {
      "cell_type": "markdown",
      "metadata": {
        "id": "-7Lm8_tUCfLV"
      },
      "source": [
        "## **Analizando ejemplos de código**\n",
        "\n",
        "Ahora te mostraremos algunos programas simples pero completos. No los explicaremos en detalle, porque consideramos que los comentarios (y los nombres de las variables) dentro del código son guías suficientes.\n",
        "\n",
        "Todos los programas resuelven el mismo problema: **encuentran el número mayor y lo imprimen**.\n",
        "\n",
        "**Ejemplo 1:**\n",
        "\n",
        "Comenzaremos con el caso más simple: **¿Cómo identificar el mayor de los dos números?** :\n",
        "\n",
        "```\n",
        "#lee dos números\n",
        "numero1 = int (input(\"Ingresa el primer número:\"))\n",
        "numero2 = int (input(\"Ingresa el segundo número:\"))\n",
        "\n",
        "#elegir el número más grande\n",
        "if numero1> numero2:\n",
        "    nmasGrande = numero1\n",
        "else:\n",
        "    nmasGrande = numero2\n",
        "\n",
        "#imprimir el resultado\n",
        "print(\"El número más grande es:\", nmasGrande)\n",
        "```\n",
        "\n",
        "El fragmento de código anterior debe estar claro: lee dos valores enteros, los compara y encuentra cuál es el más grande.\n",
        "\n",
        "---\n",
        "\n",
        "**Ejemplo 2:**\n",
        "\n",
        "Ahora vamos a mostrarte un hecho intrigante. Python tiene una característica interesante, mira el código a continuación:\n",
        "\n",
        "```\n",
        "#lee dos números\n",
        "numero1 = int (input(\"Ingresa el primer número:\"))\n",
        "numero2 = int (input(\"Ingresa el segundo número:\"))\n",
        "\n",
        "# elegir el número más grande\n",
        "if numero1 > numero2: nmasGrande = numero1\n",
        "else: nmasGrande = numero2\n",
        "\n",
        "#imprimir el resultado\n",
        "print(\"El número más grande es: \", nmasGrande)\n",
        "```\n",
        "\n",
        "Nota: si alguna de las ramas de *if-elif-else* contiene una sola instrucción, puedes codificarla de forma más completa (no es necesario que aparezca una línea con sangría después de la palabra clave), pero solo continúa la línea después de los dos puntos).\n",
        "\n",
        "Sin embargo, este estilo puede ser engañoso, y no lo vamos a usar en nuestros programas futuros, pero definitivamente vale la pena saber si quieres leer y entender los programas de otra persona.\n",
        "\n",
        "No hay otras diferencias en el código.\n",
        "\n",
        "---\n",
        "\n",
        "**Ejemplo 3:**\n",
        "\n",
        "Es hora de complicar el código: encontremos el mayor de los tres números. ¿Se ampliará el código? Un poco.\n",
        "\n",
        "Suponemos que el primer valor es el más grande. Luego verificamos esta hipótesis con los dos valores restantes.\n",
        "\n",
        "Observa el siguiente código:\n",
        "\n",
        "```\n",
        "#lee tres números\n",
        "numero1 = int (input(\"Ingresa el primer número:\"))\n",
        "numero2 = int (input(\"Ingresa el segundo número:\"))\n",
        "numero3 = int (input(\"Ingresa el tercer número:\"))\n",
        "\n",
        "#asumimos temporalmente que el primer número\n",
        "#es el más grande\n",
        "#lo verificaremos pronto\n",
        "nmasGrande = numero1\n",
        "\n",
        "#comprobamos si el segundo número es más grande que el mayor número actual\n",
        "#y actualiza el número más grande si es necesario\n",
        "if numero2 > nmasGrande:\n",
        "    nmasGrande = numero2\n",
        "\n",
        "#comprobamos si el tercer número es más grande que el mayor número actual\n",
        "#y actualiza el número más grande si es necesario\n",
        "if numero3 > nmasGrande:\n",
        "    nmasGrande = numero3\n",
        "\n",
        "#imprimir el resultado\n",
        "print(\"El número más grande es:\", nmasGrande)\n",
        "```\n",
        "\n",
        "Este método es significativamente más simple que tratar de encontrar el número más grande comparando todos los pares de números posibles (es decir, el primero con el segundo, el segundo con el tercero y el tercero con el primero). Intenta reconstruir el código por ti mismo."
      ]
    },
    {
      "cell_type": "markdown",
      "source": [
        ""
      ],
      "metadata": {
        "id": "N9W-dIauOr0S"
      }
    },
    {
      "cell_type": "markdown",
      "source": [
        ""
      ],
      "metadata": {
        "id": "Aat-4o4bOr73"
      }
    },
    {
      "cell_type": "markdown",
      "metadata": {
        "id": "uGNi26cuEJZe"
      },
      "source": [
        "### Ejercicio en Clase\n",
        "## **Tiempo estimado**\n",
        "\n",
        "5-10 minutos\n",
        "\n",
        "## **Nivel de dificultad**\n",
        "\n",
        "Fácil\n",
        "\n",
        "## **Objetivos**\n",
        "\n",
        "- Familiarizarse con la función *input()*\n",
        "- Familiarizarse con los operadores de comparación en Python.\n",
        "- Familiarizarse con el concepto de ejecución condicional.\n",
        "\n",
        "## **Escenario**\n",
        "\n",
        "[Espatifilo](https://upload.wikimedia.org/wikipedia/commons/b/bd/Spathiphyllum_cochlearispathum_RTBG.jpg), más comúnmente conocida como la planta de Cuna de Moisés o flor de la paz, es una de las plantas para interiores más populares que filtra las toxinas dañinas del aire. Algunas de las toxinas que neutraliza incluyen benceno, formaldehído y amoníaco.\n",
        "\n",
        "Imagina que tu programa de computadora ama estas plantas. Cada vez que recibe una entrada en forma de la palabra `Espatifilo`, grita involuntariamente a la consola la siguiente cadena:  `\"¡Espatifilo es la mejor planta de todas!\"`\n",
        "\n",
        "Escribe un programa que utilice el concepto de ejecución condicional, tome una cadena como entrada y que:\n",
        "\n",
        "- Imprima el enunciado `\"Si, ¡El Espatifilo es la mejor planta de todos los tiempos!\"`  en la pantalla si la cadena ingresada es `\"Espatifilo\"`.\n",
        "- Imprima `\"No, ¡quiero un gran Espatifilo!\"` si la cadena ingresada es `\"espatifilo\".`\n",
        "- Imprima  `\"¡Espatifilo! ¡No [entrada]!\"`  de lo contrario. Nota: `[entrada]` es la cadena que se toma como entrada.\n",
        "\n",
        "Prueba tu código con los datos que te proporcionamos. ¡Y hazte de un Espatifilo también!\n",
        "\n",
        "## **Datos de prueba**\n",
        "\n",
        "Entrada de muestra: `espatifilo`\n",
        "\n",
        "Resultado esperado: `No, ¡quiero un gran Espatifilo!`\n",
        "\n",
        "---\n",
        "\n",
        "Entrada de ejemplo: `pelargonio`\n",
        "\n",
        "Resultado esperado: `!Espatifilo! ¡No pelargonio!`\n",
        "\n",
        "---\n",
        "\n",
        "Entrada de muestra: `Espatifilo`\n",
        "\n",
        "Resultado esperado: `Si, ¡El Espatifilo es la mejor planta de todos los tiempos!`"
      ]
    },
    {
      "cell_type": "code",
      "execution_count": null,
      "metadata": {
        "colab": {
          "base_uri": "https://localhost:8080/"
        },
        "id": "nQbCBaWkQHNQ",
        "outputId": "fa190787-51d3-42df-cafc-8b8928f24f83"
      },
      "outputs": [
        {
          "name": "stdout",
          "output_type": "stream",
          "text": [
            "Ingrese el ingreso anual:10000\n"
          ]
        }
      ],
      "source": [
        "ingreso=float(input(\"Ingrese el ingreso anual:\"))\n",
        "impuesto=0.0\n",
        "if ingreso < 85.528:\n",
        "    porc = ingreso*0.18\n",
        "    impuesto=porc-556.2\n",
        "    print(\"El impuesto es: \", impuesto, \"pesos\")\n",
        "9"
      ]
    },
    {
      "cell_type": "markdown",
      "source": [
        ""
      ],
      "metadata": {
        "id": "wLZK-J1dbmQ8"
      }
    },
    {
      "cell_type": "markdown",
      "source": [
        ""
      ],
      "metadata": {
        "id": "4G3x22fJL4vy"
      }
    },
    {
      "cell_type": "markdown",
      "metadata": {
        "id": "gASfEMcqBKEg"
      },
      "source": [
        "##**Puntos clave**\n",
        "\n",
        "1. Los operadores de **comparación** (o también denominados *relacionales*) se utilizan para comparar valores. La siguiente tabla ilustra cómo funcionan los operadores de comparación, asumiendo que `x=0`, `y=1` y `z=0`:\n",
        "\n",
        "[Untitled](https://www.notion.so/ccf38403bd944d04ab434f9af84f65df)\n",
        "\n",
        "2. Cuando desea ejecutar algún código solo si se cumple una determinada condición, puede usar una **declaración condicional**:\n",
        "\n",
        "- Una única declaración `if`, por ejemplo:\n",
        "\n",
        "```\n",
        "x = 10\n",
        "\n",
        "if x == 10: # condición\n",
        "    print(\"x es igual a 10\") # ejecutado si la condición es verdadera\n",
        "```\n",
        "\n",
        "- Una serie de declaraciones `if`, por ejemplo:\n",
        "\n",
        "```\n",
        "x = 10\n",
        "\n",
        "if x > 5: # condición uno\n",
        "    print(\"x es mayor que 5\") # ejecutado si la condición uno es verdadera\n",
        "\n",
        "if x <10: # condición dos\n",
        "    print(\"x es menor que 10\") # ejecutado si la condición dos es verdadera\n",
        "\n",
        "if x == 10: # condición tres\n",
        "     print(\"x es igual a 10\") # ejecutado si la condición tres es verdadera\n",
        "```\n",
        "\n",
        "Cada declaración `if` se prueba por separado.\n",
        "\n",
        "- Una declaración de `if-else`, por ejemplo:\n",
        "\n",
        "```\n",
        "x = 10\n",
        "\n",
        "if x < 10: # condición\n",
        "    print (\"x es menor que 10\") # ejecutado si la condición es Verdadera\n",
        "\n",
        "else:\n",
        "    print (\"x es mayor o igual a 10\") # ejecutado si la condición es False\n",
        "```\n",
        "\n",
        "- Una serie de declaraciones `if` seguidas de un `else`, por ejemplo:\n",
        "\n",
        "```\n",
        "x = 10\n",
        "\n",
        "if x > 5: # Verdadero\n",
        "    print(\"x > 5\")\n",
        "\n",
        "if x > 8: # Verdadero\n",
        "    print(\"x > 8\")\n",
        "\n",
        "if x > 10: # Falso\n",
        "    print(\"x > 10\")\n",
        "\n",
        "else:\n",
        "    print(\"Se ejecutará el else\")\n",
        "```\n",
        "\n",
        "Cada `if` se prueba por separado. El cuerpo de `else` se ejecuta si el último `if` es `False`.\n",
        "\n",
        "- La declaración  `if-elif-else`, por ejemplo:\n",
        "\n",
        "```\n",
        " x = 10\n",
        "\n",
        "if  x == 10: # Verdadero\n",
        "    print(\"x == 10\")\n",
        "\n",
        "if x > 15: # Falso\n",
        "    print(\"x > 15\")\n",
        "\n",
        "elif x > 10: # Falso\n",
        "    print(\"x > 10\")\n",
        "\n",
        "elif x > 5: # Verdadero\n",
        "    print(\"x > 5\")\n",
        "\n",
        "else:\n",
        "    print(\"No se ejecutará el else\")\n",
        "```\n",
        "\n",
        "Si la condición para `if` es `False`, el programa verifica las condiciones de los bloques `elif` posteriores: el primer `elif` que sea `True` es el que se ejecuta. Si todas las condiciones son `False`, se ejecutará el bloque `else`.\n",
        "\n",
        "- Declaraciones condicionales anidadas, ejemplo:\n",
        "\n",
        "```\n",
        "x = 10\n",
        "\n",
        "if x > 5: # Verdadero\n",
        "    if x == 6: # Falso\n",
        "        print(\"anidado: x == 6\")\n",
        "    elif x == 10: # Verdadero\n",
        "        print(\"anidado: x == 10\")\n",
        "    else:\n",
        "        print(\"anidado: else\")\n",
        "else:\n",
        "    print(\"else\")\n",
        "```"
      ]
    },
    {
      "cell_type": "code",
      "source": [
        "x = 5\n",
        "\n",
        "if x >= 5: # Verdadero\n",
        "    if x == 6: # Falso\n",
        "        print(\"anidado: x == 6\")\n",
        "    elif x == 10: # Verdadero\n",
        "        print(\"anidado: x == 10\")\n",
        "    else:\n",
        "        print(\"anidado: else\")\n",
        "else:\n",
        "    print(\"else\")"
      ],
      "metadata": {
        "colab": {
          "base_uri": "https://localhost:8080/"
        },
        "id": "iGOyPouy1VEY",
        "outputId": "51dec89e-ccf2-4083-d882-c149ae89ebcd"
      },
      "execution_count": null,
      "outputs": [
        {
          "output_type": "stream",
          "name": "stdout",
          "text": [
            "anidado: else\n"
          ]
        }
      ]
    },
    {
      "cell_type": "markdown",
      "metadata": {
        "id": "PVywKTU9Bnx1"
      },
      "source": [
        "## **Puntos Clave: Continuación**\n",
        "\n",
        "**Ejercicio 1**\n",
        "\n",
        "¿Cuál es la salida del siguiente fragmento de código?\n",
        "\n",
        "```\n",
        "x = 5\n",
        "y = 10\n",
        "z = 8\n",
        "\n",
        "print(x > y)\n",
        "print(y > z)\n",
        "```\n",
        "\n",
        "Revisar\n",
        "\n",
        "**Ejercicio 2**\n",
        "\n",
        "¿Cuál es la salida del siguiente fragmento de código?\n",
        "\n",
        "```\n",
        "x, y, z = 5, 10, 8\n",
        "\n",
        "print(x > z)\n",
        "print((y - 5) == x)\n",
        "```\n",
        "\n",
        "Revisar\n",
        "\n",
        "**Ejercicio 3**\n",
        "\n",
        "¿Cuál es la salida del siguiente fragmento de código?\n",
        "\n",
        "```\n",
        "x, y, z = 5, 10, 8\n",
        "x, y, z = z, y, x\n",
        "\n",
        "print(x > z)\n",
        "print((y - 5) == x)\n",
        "```\n",
        "\n",
        "Revisar\n",
        "\n",
        "**Ejercicio 4**\n",
        "\n",
        "¿Cuál es la salida del siguiente fragmento de código?\n",
        "\n",
        "```\n",
        "x = 10\n",
        "\n",
        "if x == 10:\n",
        "    print(x == 10)\n",
        "if x > 5:\n",
        "    print(x > 5)\n",
        "if x < 10:\n",
        "    print(x < 10)\n",
        "else:\n",
        "    print(\"else\")\n",
        "```\n",
        "\n",
        "Revisar\n",
        "\n",
        "**Ejercicio 5**\n",
        "\n",
        "¿Cuál es la salida del siguiente fragmento de código?\n",
        "\n",
        "```\n",
        "x = \"1\"\n",
        "\n",
        "if x == 1:\n",
        "    print(\"uno\")\n",
        "elif x == \"1\":\n",
        "    if int (x)> 1:\n",
        "        print(\"dos\")\n",
        "    elif int (x) < 1:\n",
        "        print(\"tres\")\n",
        "    else:\n",
        "        print(\"cuatro\")\n",
        "if int (x) == 1:\n",
        "    print(\"cinco\")\n",
        "else:\n",
        "    print(\"seis\")\n",
        "```\n",
        "\n",
        "Revisar\n",
        "\n",
        "**Ejercicio 6**\n",
        "\n",
        "¿Cuál es la salida del siguiente fragmento de código?\n",
        "\n",
        "```\n",
        "x = 1\n",
        "y = 1.0\n",
        "z = \"1\"\n",
        "\n",
        "if x == y:\n",
        "    print(\"uno\")\n",
        "if y == int (z):\n",
        "    print(\"dos\")\n",
        "elif x == y:\n",
        "    print(\"tres\")\n",
        "else:\n",
        "    print(\"cuatro\")\n",
        "```\n",
        "\n",
        "Revisar"
      ]
    },
    {
      "cell_type": "markdown",
      "metadata": {
        "id": "izYE47O6CLyQ"
      },
      "source": [
        "## **Ciclos o bucles en el código con while**\n",
        "\n",
        "¿Estás de acuerdo con la declaración presentada a continuación?\n",
        "\n",
        "```\n",
        "mientras haya algo que hacer hazlo\n",
        "```\n",
        "\n",
        "Ten en cuenta que este registro también declara que, si no hay nada que hacer, nada ocurrirá.\n",
        "\n",
        "En general, en Python, un ciclo se puede representar de la siguiente manera:\n",
        "\n",
        "```\n",
        "while expresión_condicional:\n",
        "    instrucción\n",
        "```\n",
        "\n",
        "Si observas algunas similitudes con la instrucción *if*, está bien. De hecho, la diferencia sintáctica es solo una: usa la palabra `while` en lugar de la palabra `if`.\n",
        "\n",
        "La diferencia semántica es más importante: cuando se cumple la condición, *if* realiza sus declaraciones **sólo una vez**; *while* **repite la ejecución siempre que la condición se evalúe como `True`**.\n",
        "\n",
        "Nota: todas las reglas relacionadas con **sangría** también se aplican aquí. Te mostraremos esto pronto.\n",
        "\n",
        "---\n",
        "\n",
        "Observa el algoritmo a continuación:\n",
        "\n",
        "```\n",
        "while expresión_condicional:\n",
        "    instrucción_uno\n",
        "    instruccion_dos\n",
        "    instrucción_tres\n",
        "    :\n",
        "    :\n",
        "    instrucción_n\n",
        "```\n",
        "\n",
        "Ahora, es importante recordar que:\n",
        "\n",
        "- Si deseas ejecutar **más de una declaración dentro de un `while`**, debes (como con `if`) **poner sangría** a todas las instrucciones de la misma manera.\n",
        "- Una instrucción o conjunto de instrucciones ejecutadas dentro del `while` se llama el **cuerpo del ciclo**.\n",
        "- Si la condición es `False` (igual a cero) tan pronto como se compruebe por primera vez, el cuerpo no se ejecuta ni una sola vez (ten en cuenta la analogía de no tener que hacer nada si no hay nada que hacer).\n",
        "- El cuerpo debe poder cambiar el valor de la condición, porque si la condición es `True` al principio, el cuerpo podría funcionar continuamente hasta el infinito. Observa que hacer una cosa generalmente disminuye la cantidad de cosas por hacer.\n",
        "\n",
        "## **Un bucle o ciclo infinito**\n",
        "\n",
        "Un ciclo infinito, también denominado **ciclo sin fin**, es una secuencia de instrucciones en un programa que se repite indefinidamente (ciclo sin fin).\n",
        "\n",
        "Este es un ejemplo de un ciclo que no puede finalizar su ejecución:\n",
        "\n",
        "```\n",
        "while True:\n",
        "    print(\"Estoy atrapado dentro de un ciclo\")\n",
        "```\n",
        "\n",
        "Este ciclo imprimirá infinitamente `\"Estoy atrapado dentro de un ciclo\".` En la pantalla.\n",
        "\n",
        "Si deseas obtener la mejor experiencia de aprendizaje al ver cómo se comporta un ciclo infinito, inicia IDLE, cree un Nuevo archivo, copia y pega el código anterior, guarda tu archivo y ejecuta el programa. Lo que verás es la secuencia interminable de cadenas impresas de `\"Estoy atrapado dentro de un ciclo\".` En la ventana de la consola de Python. Para finalizar tu programa, simplemente presiona *Ctrl-C* (o *Ctrl-Break* en algunas computadoras). Esto provocará la excepción `KeyboardInterrupt` y permitirá que tu programa salga del ciclo. Hablaremos de ello más adelante en el curso.\n",
        "\n",
        "---\n",
        "\n",
        "Volvamos al bosquejo del algoritmo que te mostramos recientemente. Te mostraremos como usar este ciclo recién aprendido para encontrar el número más grande de un gran conjunto de datos ingresados.\n",
        "\n",
        "Analiza el programa cuidadosamente. Localiza el cuerpo del ciclo y descubre **como se sale del cuerpo**:\n",
        "\n",
        "```\n",
        "# Almacenaremos el número más grande actual aquí\n",
        "numeroMayor = -999999999\n",
        "\n",
        "# Ingresa el primer valor\n",
        "numero = int(input (\"Introduzca un número o escriba -1 para detener:\"))\n",
        "\n",
        "# Si el número no es igual a -1, continuaremos\n",
        " while numero != -1:\n",
        "    # ¿Es el número más grande que el número más grande?\n",
        "    if numero > numeroMayor:\n",
        "        # Sí si, actualiza el mayor númeroNúmero\n",
        "        numeroMayor = numero\n",
        "    # Ingresa el siguiente número\n",
        "    numero = int (input(\"Introduce un número o escribe -1 para detener:\"))\n",
        "\n",
        "# Imprimir el número más grande\n",
        "print(\"El número más grande es:\", numeroMayor)\n",
        "```\n",
        "\n",
        "Comprueba como este código implementa el algoritmo que te mostramos anteriormente."
      ]
    },
    {
      "cell_type": "markdown",
      "source": [
        ""
      ],
      "metadata": {
        "id": "Yk6KnjDMOGrP"
      }
    },
    {
      "cell_type": "markdown",
      "source": [
        ""
      ],
      "metadata": {
        "id": "dsuXNjGlOJap"
      }
    },
    {
      "cell_type": "code",
      "source": [
        "x = 1\n",
        "y = 1.3\n",
        "z = \"1\"\n",
        "\n",
        "if x == y:\n",
        "    print(\"uno\")\n",
        "if y == int (z):\n",
        "    print(\"dos\")\n",
        "elif x == y:\n",
        "    print(\"tres\")\n",
        "else:\n",
        "    print(\"cuatro\")"
      ],
      "metadata": {
        "colab": {
          "base_uri": "https://localhost:8080/"
        },
        "id": "YzdHzHMY2dMh",
        "outputId": "59ebf18f-130b-4e39-aa86-c1e3a332493b"
      },
      "execution_count": null,
      "outputs": [
        {
          "output_type": "stream",
          "name": "stdout",
          "text": [
            "cuatro\n"
          ]
        }
      ]
    },
    {
      "cell_type": "markdown",
      "metadata": {
        "id": "91tXuBbDFWQU"
      },
      "source": [
        "## **El ciclo(bucle) `while`: más ejemplos**\n",
        "\n",
        "Veamos otro ejemplo utilizando el ciclo `while`. Sigue los comentarios para descubrir la idea y la solución.\n",
        "```bash\n",
        "# programa que lee una secuencia de números\n",
        "# y cuenta cuántos números son pares y cuántos son impares\n",
        "# programa termina cuando se ingresa cero\n",
        "\n",
        "numerosImpares = 0\n",
        "numerosPares = 0\n",
        "\n",
        "# lee el primer número\n",
        "numero = int (input (\"Introduce un número o escriba 0 para detener:\"))\n",
        "\n",
        "# 0 termina la ejecución\n",
        "while numero != 0:\n",
        "    # verificar si el número es impar\n",
        "    if numero % 2 == 1:\n",
        "        # aumentar el contador de números impares\n",
        "        numerosImpares += 1\n",
        "    else:\n",
        "        # aumentar el contador de números pares\n",
        "        numerosPares += 1\n",
        "    # lee el siguiente número\n",
        "    numero = int (input (\"Introduce un número o escriba 0 para detener:\"))\n",
        "\n",
        "# imprimir resultados\n",
        "print(\"Números impares: \", numerosImpares)\n",
        "print(\"Números pares: \", numerosPares)\n",
        "```\n",
        "Ciertas expresiones se pueden simplificar sin cambiar el comportamiento del programa.\n",
        "\n",
        "Intenta recordar cómo Python interpreta la verdad de una condición y ten en cuenta que estas dos formas son equivalentes:\n",
        "\n",
        "`while numero != 0:` y `while numero:`\n",
        "\n",
        "La condición que verifica si un número es impar también puede codificarse en estas formas equivalentes:\n",
        "\n",
        "`if numero % 2 == 1:` e `if numero % 2:`\n",
        "\n",
        "## **Usando una variable contador para salir de un ciclo**\n",
        "\n",
        "Observa el fragmento de código a continuación:\n",
        "```\n",
        "contador = 5\n",
        "while contador != 0:\n",
        "print(\"Dentro del ciclo: \", contador)\n",
        "contador -= 1\n",
        "print(\"Fuera del ciclo\", contador)`\n",
        "```\n",
        "\n",
        "Este código está destinado a imprimir la cadena `\"Dentro del ciclo\"` y el valor almacenado en la variable `contador` durante un ciclo dado exactamente cinco veces. Una vez que la condición se haya cumplido (la variable `contador` ha alcanzado `0`), se sale del ciclo y aparece el mensaje `\"Fuera del ciclo\".` así como el valor almacenado en `contador` se imprime.\n",
        "\n",
        "Pero hay una cosa que se puede escribir de forma más compacta: la condición del ciclo `while`.\n",
        "\n",
        "¿Puedes ver la diferencia?\n",
        "```\n",
        "contador=5\n",
        "while contador:\n",
        "print(\"Dentro del ciclo.\", contador)\n",
        "contador - = 1\n",
        "print(\"Fuera del ciclo\", contador)\n",
        "```\n",
        "¿Es más compacto que antes? Un poco. ¿Es más legible? Eso es discutible.\n",
        "\n",
        "**RECUERDA**\n",
        "\n",
        "No te sientas obligado a codificar tus programas de una manera que siempre sea la más corta y la más compacta. La legibilidad puede ser un factor más importante. Manten tu código listo para un nuevo programador."
      ]
    },
    {
      "cell_type": "markdown",
      "metadata": {
        "id": "I-2tAGDdjjRm"
      },
      "source": [
        "### **LABORATORIO**\n",
        "\n",
        "## **Tiempo estimado**\n",
        "\n",
        "15 minutos\n",
        "\n",
        "## **Nivel de dificultad**\n",
        "\n",
        "Fácil\n",
        "\n",
        "## **Objetivos**\n",
        "\n",
        "Familiarizar al estudiante con:\n",
        "\n",
        "- Utilizar el ciclo .\n",
        "\n",
        "    while\n",
        "\n",
        "- Reflejar situaciones de la vida real en código de computadora.\n",
        "\n",
        "## **Escenario**\n",
        "\n",
        "Un mago junior ha elegido un número secreto. Lo ha escondido en una variable llamada `númeroSecreto`. Quiere que todos los que ejecutan su programa jueguen el juego *Adivina el número secreto*, y adivina qué número ha elegido para ellos. ¡Quienes no adivinen el número quedarán atrapados en un ciclo sin fin para siempre! Desafortunadamente, él no sabe cómo completar el código.\n",
        "\n",
        "Tu tarea es ayudar al mago a completar el código en el editor de tal manera que el código:\n",
        "\n",
        "- Pedirá al usuario que ingrese un número entero.\n",
        "- Utilizará un ciclo `while`.\n",
        "- Comprobará si el número ingresado por el usuario es el mismo que el número escogido por el mago. Si el número elegido por el usuario es diferente al número secreto del mago, el usuario debería ver el mensaje `\"¡Ja, ja! ¡Estás atrapado en mi ciclo!\"`  y se le solicitará que ingrese un número nuevamente. Si el número ingresado por el usuario coincide con el número escogido por el mago, el número debe imprimirse en la pantalla, y el mago debe decir las siguientes palabras: `\"¡Bien hecho, muggle! Eres libre ahora\"`.\n",
        "\n",
        "¡El mago está contando contigo! No lo decepciones.\n",
        "\n",
        "**INFO EXTRA**\n",
        "\n",
        "Por cierto, mira la función `print()`. La forma en que lo hemos utilizado aquí se llama *impresión multilínea* . Puede utilizar **comillas triples** para imprimir cadenas en varias líneas para facilitar la lectura del texto o crear un diseño especial basado en texto. Experimenta con ello."
      ]
    },
    {
      "cell_type": "code",
      "execution_count": null,
      "metadata": {
        "id": "C1GbbOPLkFZV"
      },
      "outputs": [],
      "source": [
        "numeroSecreto = 777\n",
        "\n",
        "print(\n",
        "\"\"\"\n",
        "+==================================+\n",
        "| Bienvenido a mi juego, muggle!   |\n",
        "| Introduce un número entero       |\n",
        "| y adivina qué número he          |\n",
        "| elegido para ti.                 |\n",
        "| Entonces,                        |\n",
        "| ¿Cuál es el número secreto?      |\n",
        "+==================================+\n",
        "\"\"\")\n"
      ]
    },
    {
      "cell_type": "markdown",
      "metadata": {
        "id": "IVVUxPy4kgOl"
      },
      "source": [
        "## **Ciclos(bucles) en el código con `for`**\n",
        "\n",
        "Otro tipo de ciclo disponible en Python proviene de la observación de que a veces es más importante **contar los \"giros o vueltas\" del ciclo** que verificar las condiciones.\n",
        "\n",
        "Imagina que el cuerpo de un ciclo debe ejecutarse exactamente cien veces. Si deseas utilizar el ciclo `while` para hacerlo, puede tener este aspecto:\n",
        "\n",
        "`i = 0`\n",
        "\n",
        "`while i < 100:`\n",
        "\n",
        "`# hacer_algo()`\n",
        "\n",
        "`i += 1`\n",
        "\n",
        "Sería bueno si alguien pudiera hacer esta cuenta aburrida por ti. ¿Es eso posible?\n",
        "\n",
        "Por supuesto que lo es, hay un ciclo especial para este tipo de tareas, y se llama `for`.\n",
        "\n",
        "En realidad, el ciclo `for` está diseñado para realizar tareas más complicadas, **puede \"explorar\" grandes colecciones de datos elemento por elemento**. Te mostraremos como hacerlo pronto, pero ahora presentaremos una variante más sencilla de su aplicación.\n",
        "\n",
        "---\n",
        "\n",
        "Echa un vistazo al fragmento:\n",
        "\n",
        "`for i in range (100):`\n",
        "\n",
        "`#hacer algo()`\n",
        "\n",
        "`pass`\n",
        "\n",
        "Hay algunos elementos nuevos. Déjanos contarte sobre ellos:\n",
        "\n",
        "- La palabra reservada abre el ciclo `for`; nota - No hay condición después de eso; no tienes que pensar en las condiciones, ya que se verifican internamente, sin ninguna intervención.\n",
        "- Cualquier variable después de la palabra reservada  es la **variable de control** del ciclo; cuenta los giros del ciclo y lo hace automáticamente.\n",
        "- La palabra reservada  introduce un elemento de sintaxis que describe el rango de valores posibles que se asignan a la variable de control.\n",
        "- La función `range()` (esta es una función muy especial) es responsable de generar todos los valores deseados de la variable de control; en nuestro ejemplo, la función creará (incluso podemos decir que **alimentará** el ciclo con) valores subsiguientes del siguiente conjunto: 0, 1, 2 .. 97, 98, 99; nota: en este caso, la función `range()` comienza su trabajo desde 0 y lo finaliza un paso (un número entero) antes del valor de su argumento.\n",
        "- Nota la palabra clave  dentro del cuerpo del ciclo - no hace nada en absoluto; es una **instrucción vacía** : la colocamos aquí porque la sintaxis del ciclo `for` exige al menos una instrucción dentro del cuerpo (por cierto, `if`, `elif`, `else` y `while` expresan lo mismo).\n",
        "\n",
        "    *pass*\n",
        "\n",
        "Nuestros próximos ejemplos serán un poco más modestos en el número de repeticiones de ciclo.\n",
        "\n",
        "Echa un vistazo al fragmento de abajo. ¿Puedes predecir su salida?\n",
        "\n",
        "`for i in range(10):`\n",
        "\n",
        "`print(\"El valor de i es actualmente\", i)`\n",
        "\n",
        "Ejecuta el código para verificar si tenías razón.\n",
        "\n",
        "Nota:\n",
        "\n",
        "- El ciclo se ha ejecutado diez veces (es el argumento de la función `range()`).\n",
        "- El valor de la última variable de control es `9` (no `10`, ya que **comienza desde `0`** , no desde `1`).\n",
        "\n",
        "---\n",
        "\n",
        "La invocación de la función `range()` puede estar equipada con dos argumentos, no solo uno:\n",
        "\n",
        "`for i in range (2, 8):`\n",
        "\n",
        "`print(\"El valor de i es actualmente\", i)`\n",
        "\n",
        "En este caso, el primer argumento determina el valor inicial (primero) de la variable de control.\n",
        "\n",
        "El último argumento muestra el primer valor que no se asignará a la variable de control.\n",
        "\n",
        "Nota: la función `range()` **solo acepta enteros como argumentos** y genera secuencias de enteros.\n",
        "\n",
        "¿Puedes adivinar la salida del programa? Ejecútalo para comprobar si ahora también estabas en lo cierto.\n",
        "\n",
        "El primer valor mostrado es `2` (tomado del primer argumento de `range()`).\n",
        "\n",
        "El último es `7` (aunque el segundo argumento de `range()` es `8`)."
      ]
    },
    {
      "cell_type": "code",
      "execution_count": null,
      "metadata": {
        "colab": {
          "base_uri": "https://localhost:8080/"
        },
        "id": "-c5ih6Mol5tX",
        "outputId": "d6f71c50-a198-43cf-94c4-337eddeecdef"
      },
      "outputs": [
        {
          "output_type": "stream",
          "name": "stdout",
          "text": [
            "El valor de i es actualmente 2\n",
            "El valor de i es actualmente 3\n",
            "El valor de i es actualmente 4\n",
            "El valor de i es actualmente 5\n",
            "El valor de i es actualmente 6\n",
            "El valor de i es actualmente 7\n"
          ]
        }
      ],
      "source": [
        "for i in range (2, 8):\n",
        "    print(\"El valor de i es actualmente\", i)"
      ]
    },
    {
      "cell_type": "markdown",
      "metadata": {
        "id": "Lej4RzGYmhzx"
      },
      "source": [
        "## **Más sobre el ciclo for y la función range() con tres argumentos**\n",
        "\n",
        "La función `range()` también puede aceptar **tres argumentos**: Echa un vistazo al código del editor.\n",
        "\n",
        "El tercer argumento es un **incremento**: es un valor agregado para controlar la variable en cada giro del ciclo (como puedes sospechar, el valor predeterminado del incremento **es 1** ).\n",
        "\n",
        "¿Puedes decirnos cuántas líneas aparecerán en la consola y qué valores contendrán?\n",
        "\n",
        "Ejecuta el programa para averiguar si tenías razón."
      ]
    },
    {
      "cell_type": "code",
      "execution_count": null,
      "metadata": {
        "colab": {
          "base_uri": "https://localhost:8080/"
        },
        "id": "8to_Qrr4moPq",
        "outputId": "0bf912d2-4ff0-44c0-e87f-a8cb3d10c092"
      },
      "outputs": [
        {
          "name": "stdout",
          "output_type": "stream",
          "text": [
            "El valor de i es actualmente 2\n",
            "El valor de i es actualmente 5\n"
          ]
        }
      ],
      "source": [
        "for i in range(2, 8, 3):\n",
        "    print(\"El valor de i es actualmente\", i)"
      ]
    },
    {
      "cell_type": "markdown",
      "metadata": {
        "id": "Jtyty4T8mvfO"
      },
      "source": [
        "Deberías poder ver las siguientes líneas en la ventana de la consola:\n",
        "\n",
        "```\n",
        "El valor de i es actualmente 2\n",
        "El valor de i es actualmente 5\n",
        "```\n",
        "\n",
        "¿Sabes por qué? El primer argumento pasado a la función `range()` nos dice cual es el número **de inicio** de la secuencia (por lo tanto, `2` en la salida). El segundo argumento le dice a la función dónde **detener** la secuencia (la función genera números hasta el número indicado por el segundo argumento, pero no lo incluye). Finalmente, el tercer argumento indica el **paso**, que en realidad significa la diferencia entre cada número en la secuencia de números generados por la función.\n",
        "\n",
        "`2`(número inicial) → `5` (`2` incremento por 3 es igual a `5` - el número está dentro del rango de 2 a 8) → `8` (`5` incremento por 3 es igual a `8` - el número no está dentro del rango de 2 a 8, porque el parámetro de parada no está incluido en la secuencia de números generados por la función).\n",
        "\n",
        "---\n",
        "\n",
        "Nota: si el conjunto generado por la función `range()` está vacío, el ciclo no ejecutará su cuerpo en absoluto.\n",
        "\n",
        "Al igual que aquí, no habrá salida:"
      ]
    },
    {
      "cell_type": "markdown",
      "source": [
        ""
      ],
      "metadata": {
        "id": "eBzagmWlNBw1"
      }
    },
    {
      "cell_type": "code",
      "execution_count": null,
      "metadata": {
        "id": "2dXaY_Bvnaor"
      },
      "outputs": [],
      "source": [
        "for i in range(1, 1):\n",
        "  print(\"El valor de i es actualmente\", i) "
      ]
    },
    {
      "cell_type": "markdown",
      "metadata": {
        "id": "ypurPmqZnhbJ"
      },
      "source": [
        "Nota: el conjunto generado por `range()` debe ordenarse en **un orden ascendente**. No hay forma de forzar el `range()` para crear un conjunto en una forma diferente. Esto significa que el segundo argumento de `range()` debe ser mayor que el primero.\n",
        "\n",
        "Por lo tanto, tampoco habrá salida aquí:"
      ]
    },
    {
      "cell_type": "markdown",
      "source": [
        ""
      ],
      "metadata": {
        "id": "T1LS2bxBNOn1"
      }
    },
    {
      "cell_type": "code",
      "execution_count": null,
      "metadata": {
        "id": "hdLPu_ZBnp07"
      },
      "outputs": [],
      "source": [
        "for i in range(2, 1):\n",
        "  print (\"El valor de i es actualmente\", i) "
      ]
    },
    {
      "cell_type": "markdown",
      "metadata": {
        "id": "1i5_A-dsny9_"
      },
      "source": [
        "Echemos un vistazo a un programa corto cuya tarea es escribir algunas de las primeras potencias de dos:"
      ]
    },
    {
      "cell_type": "code",
      "execution_count": null,
      "metadata": {
        "colab": {
          "base_uri": "https://localhost:8080/"
        },
        "id": "vQVXVZByn2Lx",
        "outputId": "ee10fb4c-f96b-4c30-8ed9-236f354920d0"
      },
      "outputs": [
        {
          "name": "stdout",
          "output_type": "stream",
          "text": [
            "2 a la potencia de 0 es 1\n",
            "2 a la potencia de 1 es 2\n",
            "2 a la potencia de 2 es 4\n",
            "2 a la potencia de 3 es 8\n",
            "2 a la potencia de 4 es 16\n",
            "2 a la potencia de 5 es 32\n",
            "2 a la potencia de 6 es 64\n",
            "2 a la potencia de 7 es 128\n",
            "2 a la potencia de 8 es 256\n",
            "2 a la potencia de 9 es 512\n",
            "2 a la potencia de 10 es 1024\n",
            "2 a la potencia de 11 es 2048\n",
            "2 a la potencia de 12 es 4096\n",
            "2 a la potencia de 13 es 8192\n",
            "2 a la potencia de 14 es 16384\n",
            "2 a la potencia de 15 es 32768\n"
          ]
        }
      ],
      "source": [
        "pow = 1\n",
        "for exp in range(16):\n",
        "    print (\"2 a la potencia de\", exp, \"es\", pow)\n",
        "    pow *= 2 "
      ]
    },
    {
      "cell_type": "markdown",
      "metadata": {
        "id": "60too4X3qNcQ"
      },
      "source": [
        "### **LABORATORIO**\n",
        "\n",
        "## **Tiempo estimado**\n",
        "\n",
        "5 minutos\n",
        "\n",
        "## **Nivel de dificultad**\n",
        "\n",
        "Muy fácil\n",
        "\n",
        "## **Objetivos**\n",
        "\n",
        "Familiarizar al estudiante con:\n",
        "\n",
        "- Utilizar el ciclo for\n",
        "\n",
        "- Reflejar situaciones de la vida real en código de computadora.\n",
        "\n",
        "## **Escenario**\n",
        "\n",
        "¿Sabes lo que es Mississippi? Bueno, es el nombre de uno de los estados y ríos en los Estados Unidos. El río Mississippi tiene aproximadamente 2,340 millas de largo, lo que lo convierte en el segundo río más largo de los Estados Unidos (el más largo es el río Missouri). ¡Es tan largo que una sola gota de agua necesita 90 días para recorrer toda su longitud!\n",
        "\n",
        "La palabra *Mississippi* también se usa para un propósito ligeramente diferente: para *contar mississippily (mississippimente)*.\n",
        "\n",
        "Si no estás familiarizado con la frase, estamos aquí para explicarte lo que significa: se utiliza para contar segundos.\n",
        "\n",
        "La idea detrás de esto es que agregar la palabra *Mississippi* a un número al contar los segundos en voz alta hace que suene más cercano al reloj, y por lo tanto \"un Mississippi, dos Mississippi, tres Mississippi\" tomará aproximadamente unos tres segundos reales de tiempo. A menudo lo usan los niños que juegan al escondite para asegurarse de que el buscador haga un conteo honesto.\n",
        "\n",
        "Tu tarea es muy simple aquí: escribe un programa que use un ciclo `for` para \"contar de forma mississippi\" hasta cinco. Habiendo contado hasta cinco, el programa debería imprimir en la pantalla el mensaje final `\"¡Listo o no, ahí voy!\"`\n",
        "\n",
        "Utiliza el esqueleto que hemos proporcionado en el editor.\n",
        "\n",
        "**INFO EXTRA**\n",
        "\n",
        "Ten en cuenta que el código en el editor contiene dos elementos que pueden no ser del todo claros en este momento: la declaración `import time` y el método `sleep()`. Vamos a hablar de ellos pronto.\n",
        "\n",
        "Por el momento, nos gustaría que supieras que hemos importado el módulo `time` y hemos utilizado el método `sleep()` para suspender la ejecución de cada función posterior de `print()` dentro del ciclo `for` durante un segundo, de modo que el mensaje enviado a la consola se parezca a un conteo real. No te preocupes, pronto aprenderás más sobre módulos y métodos.\n",
        "\n",
        "## **Salida esperada**\n",
        "\n",
        "```\n",
        "1 Mississippi\n",
        "2 Mississippi\n",
        "3 Mississippi\n",
        "4 Mississippi\n",
        "5 Mississippi\n",
        "```"
      ]
    },
    {
      "cell_type": "code",
      "source": [
        "import time\n",
        "\n",
        "    # Escribe un ciclo for que cuente hasta cinco.\n",
        "    # Cuerpo del ciclo: imprime el número de iteración del ciclo y la palabra \"Mississippi\".\n",
        "    # Cuerpo del ciclo - uso: time.sleep (1)\n",
        "\n",
        "# Escribe una función de impresión con el mensaje final.\n",
        "def mensaje():\n",
        "  return \"¡Listo o no, ahí voy!\"\n",
        "\n",
        "for i in range(1,6):\n",
        "    print(f\" {i} Mississippi\")\n",
        "    time.sleep(1)\n",
        "\n",
        "mensaje()"
      ],
      "metadata": {
        "colab": {
          "base_uri": "https://localhost:8080/",
          "height": 122
        },
        "id": "fmXNeazDiNdY",
        "outputId": "7cf4c751-ba33-41bb-dc58-ca3061c4957e"
      },
      "execution_count": null,
      "outputs": [
        {
          "output_type": "stream",
          "name": "stdout",
          "text": [
            " 1 Mississippi\n",
            " 2 Mississippi\n",
            " 3 Mississippi\n",
            " 4 Mississippi\n",
            " 5 Mississippi\n"
          ]
        },
        {
          "output_type": "execute_result",
          "data": {
            "text/plain": [
              "'¡Listo o no, ahí voy!'"
            ],
            "application/vnd.google.colaboratory.intrinsic+json": {
              "type": "string"
            }
          },
          "metadata": {},
          "execution_count": 6
        }
      ]
    },
    {
      "cell_type": "markdown",
      "source": [
        "\n",
        "\n",
        "## **Las declaraciones break y continue**\n",
        "\n",
        "Hasta ahora, hemos tratado el cuerpo del ciclo como una secuencia indivisible e inseparable de instrucciones que se realizan completamente en cada giro del ciclo. Sin embargo, como desarrollador, podrías enfrentar las siguientes opciones:\n",
        "\n",
        "- Parece que no es necesario continuar el ciclo en su totalidad; se debe abstener de seguir ejecutando el cuerpo del ciclo e ir más allá.\n",
        "- Parece que necesitas comenzar el siguiente giro del ciclo sin completar la ejecución del turno actual.\n",
        "\n",
        "Python proporciona dos instrucciones especiales para la implementación de estas dos tareas. Digamos por razones de precisión que su existencia en el lenguaje no es necesaria: un programador experimentado puede codificar cualquier algoritmo sin estas instrucciones. Tales adiciones, que no mejoran el poder expresivo del lenguaje, sino que solo simplifican el trabajo del desarrollador, a veces se denominan **dulces sintácticos** o azúcar sintáctica.\n",
        "\n",
        "Estas dos instrucciones son:\n",
        "\n",
        "- `Break`: Sale del ciclo inmediatamente, e incondicionalmente termina la operación del ciclo; el programa comienza a ejecutar la instrucción más cercana después del cuerpo del ciclo.\n",
        "- `Continue`: Se comporta como si el programa hubiera llegado repentinamente al final del cuerpo; el siguiente turno se inicia y la expresión de condición se prueba de inmediato.\n",
        "\n",
        "Ambas palabras son **palabras clave reservadas**.\n",
        "\n",
        "Ahora te mostraremos dos ejemplos simples para ilustrar como funcionan las dos instrucciones. Mira el código en el editor. Ejecuta el programa y analiza la salida. Modifica el código y experimenta."
      ],
      "metadata": {
        "id": "cZo3WzfZWCop"
      }
    },
    {
      "cell_type": "code",
      "source": [
        "# break - ejemplo\n",
        "\n",
        "print(\"La instrucción de ruptura:\")\n",
        "for i in range(1,6):\n",
        "    if i == 3:\n",
        "        break\n",
        "    print(\"Dentro del ciclo.\", i)\n",
        "print(\"Fuera del ciclo.\")\n",
        "\n",
        "# continua - ejemplo\n",
        "\n",
        "print(\"\\nLa instrucción continue:\")\n",
        "for i in range(1,6):\n",
        "    if i == 3:\n",
        "        continue\n",
        "    print(\"Dentro del ciclo.\", i)\n",
        "print(\"Fuera del ciclo.\")"
      ],
      "metadata": {
        "id": "ohJT9AykXCC5",
        "colab": {
          "base_uri": "https://localhost:8080/"
        },
        "outputId": "6eb6d2d4-d912-4c9e-c46c-a7fd5c043e12"
      },
      "execution_count": null,
      "outputs": [
        {
          "output_type": "stream",
          "name": "stdout",
          "text": [
            "La instrucción de ruptura:\n",
            "Dentro del ciclo. 1\n",
            "Dentro del ciclo. 2\n",
            "Fuera del ciclo.\n",
            "\n",
            "La instrucción continue:\n",
            "Dentro del ciclo. 1\n",
            "Dentro del ciclo. 2\n",
            "Dentro del ciclo. 4\n",
            "Dentro del ciclo. 5\n",
            "Fuera del ciclo.\n"
          ]
        }
      ]
    },
    {
      "cell_type": "markdown",
      "source": [
        "## **Las declaraciones break y continue: más ejemplos**\n",
        "\n",
        "Regresemos a nuestro programa que reconoce el más grande entre los números ingresados. Lo convertiremos dos veces, usando las instrucciones de `break` y `continue`.\n",
        "\n",
        "Analiza el código y determina como usarías alguno de ellos.\n",
        "\n",
        "La variante `break` va aquí:"
      ],
      "metadata": {
        "id": "zyBJTeo7XVwP"
      }
    },
    {
      "cell_type": "code",
      "source": [
        "numeroMayor = -99999999\n",
        "contador = 0\n",
        "\n",
        "while True:\n",
        "    numero = int (input (\"Ingresa un número o escribe -1 para finalizar el programa:\"))\n",
        "    if numero == -1:\n",
        "        break\n",
        "    contador = 1\n",
        "    if numero > numeroMayor:\n",
        "        numeroMayor = numero\n",
        "\n",
        "if contador != 0:\n",
        "    print(\"El número más grande es\", numeroMayor)\n",
        "else:\n",
        "    print(\"No ha ingresado ningún número\")"
      ],
      "metadata": {
        "id": "AYTj6z7LXcTF"
      },
      "execution_count": null,
      "outputs": []
    },
    {
      "cell_type": "markdown",
      "source": [
        "Y ahora la variante **continue**:"
      ],
      "metadata": {
        "id": "Hsa18EUhXkJm"
      }
    },
    {
      "cell_type": "code",
      "source": [
        "numeroMayor = -99999999\n",
        "contador = 0\n",
        "\n",
        "numero = int (input(\"Ingresa un número o escribe -1 para finalizar el programa:\"))\n",
        "\n",
        "while numero != -1:\n",
        "    if numero == -1:\n",
        "        continue\n",
        "    contador = 1\n",
        "\n",
        "    if numero > numeroMayor:\n",
        "        numeroMayor = numero\n",
        "    numero = int (input (\"Ingresa un número o escribe -1 para finalizar el programa:\"))\n",
        "\n",
        "if contador:\n",
        "    print(\"El número más grande es\", numeroMayor)\n",
        "else:\n",
        "    print(\"No ha ingresado ningún número\")"
      ],
      "metadata": {
        "id": "FqWlbuZtXp63"
      },
      "execution_count": null,
      "outputs": []
    },
    {
      "cell_type": "markdown",
      "source": [
        "**LABORATORIO**\n",
        "\n",
        "## **Tiempo estimado**\n",
        "\n",
        "10 minutos\n",
        "\n",
        "## **Nivel de dificultad**\n",
        "\n",
        "Fácil\n",
        "\n",
        "## **Objetivos**\n",
        "\n",
        "Familiarizar al estudiante con:\n",
        "\n",
        "- Utilizar la instrucción `break` en los ciclos.\n",
        "- Reflejar situaciones de la vida real en código de computadora.\n",
        "\n",
        "## **Escenario**\n",
        "\n",
        "La instrucción `break` se usa para salir/terminar un ciclo.\n",
        "\n",
        "Diseña un programa que use un ciclo `while` y le pida continuamente al usuario que ingrese una palabra a menos que ingrese `\"chupacabra\"` como la palabra de salida secreta, en cuyo caso el mensaje `\"¡Has dejado el ciclo con éxito\".` Debe imprimirse en la pantalla y el ciclo debe terminar.\n",
        "\n",
        "No imprimas ninguna de las palabras ingresadas por el usuario. Utiliza el concepto de ejecución condicional y la declaración `break`.\n",
        "\n",
        "**LABORATORIO**\n",
        "\n",
        "## **Tiempo estimado**\n",
        "\n",
        "10-15 minutos\n",
        "\n",
        "## **Nivel de dificultad**\n",
        "\n",
        "Fácil"
      ],
      "metadata": {
        "id": "Ui52LV1mXysH"
      }
    },
    {
      "cell_type": "code",
      "source": [
        "# Indicar al usuario que ingrese una palabra\n",
        "# y asignarlo a la variable userWord.\n",
        "\n",
        "while True:\n",
        "  userWord = input(\"Ingresar una Palabra: \")\n",
        "  if userWord == 'chupacabra':\n",
        "    break \n",
        "print(\"¡Has dejado el ciclo con éxito\")  \n",
        "    "
      ],
      "metadata": {
        "colab": {
          "base_uri": "https://localhost:8080/"
        },
        "id": "UXSuStLaOKQb",
        "outputId": "234dfb4d-3b87-48bf-b9f0-364f0aaf9a21"
      },
      "execution_count": null,
      "outputs": [
        {
          "output_type": "stream",
          "name": "stdout",
          "text": [
            "Ingresar una Palabra: hola\n",
            "Ingresar una Palabra: ven\n",
            "Ingresar una Palabra: quiero\n",
            "Ingresar una Palabra: chupacabra\n",
            "¡Has dejado el ciclo con éxito\n"
          ]
        }
      ]
    },
    {
      "cell_type": "markdown",
      "source": [
        "## **Objetivos**\n",
        "\n",
        "Familiarizar al estudiante con:\n",
        "\n",
        "- Utilizar la instrucción `continue` en los ciclos.\n",
        "- Reflejar situaciones de la vida real en código de computadora.\n",
        "\n",
        "## **Escenario**\n",
        "\n",
        "La sentencia `continue` se usa para omitir el bloque actual y avanzar a la siguiente iteración, sin ejecutar las declaraciones dentro del ciclo.\n",
        "\n",
        "Se puede usar tanto con while y ciclos for.\n",
        "\n",
        "Tu tarea aquí es muy especial: ¡Debes diseñar un devorador de vocales! Escribe un programa que use:\n",
        "\n",
        "- Un ciclo `for`.\n",
        "- El concepto de ejecución condicional ().\n",
        "    \n",
        "    *if-elif-else*\n",
        "    \n",
        "- La declaración `continue`.\n",
        "\n",
        "Tu programa debe:\n",
        "\n",
        "- Pedir al usuario que ingrese una palabra.\n",
        "- Utiliza `userWord = userWord.upper()` para convertir la palabra ingresada por el usuario a mayúsculas; hablaremos sobre los llamados **métodos de cadena** y el `upper()` muy pronto, no te preocupes.\n",
        "- Utiliza la ejecución condicional y la instrucción `continue` para \"comer\" las siguientes vocales A, E, I, O, U de la palabra ingresada.\n",
        "- Imprime las letras no consumidas en la pantalla, cada una de ellas en una línea separada.\n",
        "\n",
        "Prueba tu programa con los datos que le proporcionamos.\n",
        "\n",
        "## **Datos de prueba**\n",
        "\n",
        "Entrada de muestra: `Gregory`\n",
        "\n",
        "Salida esperada: \n",
        "G \n",
        "R\n",
        "G\n",
        "R\n",
        "Y"
      ],
      "metadata": {
        "id": "nC6h5lpEYEKg"
      }
    },
    {
      "cell_type": "code",
      "source": [
        "\n",
        "userWord = input(\"Ingresar una Palabra: \")\n",
        "userWord = userWord.upper()\n",
        "for letra in userWord:\n",
        "  if letra == 'A':\n",
        "    continue\n",
        "  elif letra == 'E':\n",
        "    continue\n",
        "  elif letra == 'I':\n",
        "    continue\n",
        "  elif letra == 'O':\n",
        "    continue\n",
        "  elif letra == 'U':\n",
        "    continue\n",
        "  else:\n",
        "    print(letra, end=\"\")\n",
        "\n",
        "  "
      ],
      "metadata": {
        "id": "jU5IelLQSFfE"
      },
      "execution_count": null,
      "outputs": []
    },
    {
      "cell_type": "code",
      "source": [
        "# Ejemplo 1\n",
        "palabra = \"Python\"\n",
        "for letter in palabra:\n",
        "  print(letter, end=\"*\")"
      ],
      "metadata": {
        "colab": {
          "base_uri": "https://localhost:8080/"
        },
        "id": "QnO1VpB0WMnc",
        "outputId": "8fcd3443-e651-4724-c196-f5a2dfe44a9e"
      },
      "execution_count": null,
      "outputs": [
        {
          "output_type": "stream",
          "name": "stdout",
          "text": [
            "P*y*t*h*o*n*"
          ]
        }
      ]
    },
    {
      "cell_type": "markdown",
      "source": [
        "## **Puntos clave**\n",
        "\n",
        "1. Hay dos tipos de ciclos en Python: `while` y `for`:\n",
        "\n",
        "- El ciclo `while` ejecuta una sentencia o un conjunto de declaraciones siempre que una condición booleana especificada sea verdadera, por ejemplo:\n",
        "\n",
        "```\n",
        "# Ejemplo 1\n",
        "while True:\n",
        "    print(\"Atascado en un ciclo infinito\")\n",
        "\n",
        "# Ejemplo 2\n",
        "contador = 5\n",
        "while contador > 2:\n",
        "    print(contador)\n",
        "    contador -= 1\n",
        "```\n",
        "\n",
        "- El ciclo `for` ejecuta un conjunto de sentencias muchas veces; se usa para iterar sobre una secuencia (por ejemplo, una lista, un diccionario, una tupla o un conjunto; pronto aprenderás sobre ellos) u otros objetos que son iterables (por ejemplo, cadenas). Puedes usar el ciclo `for` para iterar sobre una secuencia de números usando la función incorporada `range`. Mira los ejemplos a continuación:\n",
        "\n",
        "```\n",
        "# Ejemplo 1\n",
        "palabra = \"Python\"\n",
        "for letter in palabra:\n",
        "    print(letter, fin = \"*\")\n",
        "\n",
        "# Ejemplo 2\n",
        "for i in range(1, 10):\n",
        "    if i % 2 == 0:\n",
        "        print(i)\n",
        "```\n",
        "\n",
        "2. Puedes usar las sentencias `break` y `continue` para cambiar el flujo de un ciclo:\n",
        "\n",
        "- Utiliza `break` para salir de un ciclo, por ejemplo:\n",
        "\n",
        "```\n",
        "texto = \"OpenEDG Python Institute\"\n",
        "for letter in texto:\n",
        "    if letter == \"P\":\n",
        "        break\n",
        "    print(letter, end= \"\")\n",
        "```\n",
        "\n",
        "- Utiliza `continue` para omitir la iteración actual, y continuar con la siguiente iteración, por ejemplo:\n",
        "\n",
        "```\n",
        "text = \"pyxpyxpyx\"\n",
        "for letter in text:\n",
        "    if letter == \"x\":\n",
        "        continue\n",
        "    print(letter, end= \"\")\n",
        "```"
      ],
      "metadata": {
        "id": "nqP2YeHbaGUh"
      }
    },
    {
      "cell_type": "markdown",
      "source": [
        "3. Los ciclos `while` y `for` también pueden tener una cláusula `else` en Python. La cláusula `else` se ejecuta después de que el ciclo finalice su ejecución siempre y cuando no haya terminado con `break`, por ejemplo:\n",
        "\n",
        "```\n",
        "n = 0\n",
        "\n",
        "while n != 3:\n",
        "    print(n)\n",
        "    n += 1\n",
        "else:\n",
        "    print(n, \"else\")\n",
        "\n",
        "print()\n",
        "\n",
        "for i in range(0, 3):\n",
        "    print(i)\n",
        "else:\n",
        "    print(i, \"else\")\n",
        "```\n",
        "\n",
        "4. La función `range()` genera una secuencia de números. Acepta enteros y devuelve objetos de rango. La sintaxis de `range()` tiene el siguiente aspecto: `range(start, stop, step)`, donde:\n",
        "\n",
        "- `start` es un parámetro opcional que especifica el número de inicio de la secuencia (`0` por defecto).\n",
        "- `stop` es un parámetro opcional que especifica el final de la secuencia generada (no está incluido).\n",
        "- y `step` es un parámetro opcional que especifica la diferencia entre los números en la secuencia es (`1` por defecto).\n",
        "\n",
        "Código de ejemplo:\n",
        "\n",
        "```\n",
        "for i in range(3):\n",
        "    print(i, end=\" \") # salidas: 0 1 2\n",
        "\n",
        "for i in range(6, 1, -2):\n",
        "    print(i, end=\" \") # salidas: 6, 4, 2\n",
        "```"
      ],
      "metadata": {
        "id": "lGPf3apaabka"
      }
    },
    {
      "cell_type": "markdown",
      "source": [
        "## **Puntos clave: continuación**\n",
        "\n",
        "**Ejercicio 1**\n",
        "\n",
        "Crea un bucle `for` que cuente de 0 a 10, e imprima números impares en la pantalla. Usa el esqueleto de abajo:\n",
        "\n",
        "```\n",
        "for i in range(1, 11):\n",
        "    # línea de código\n",
        "        # línea de código\n",
        "```\n",
        "\n",
        "Revisar\n",
        "\n",
        "**Ejercicio 2**\n",
        "\n",
        "Crea un bucle `while` que cuente de 0 a 10, e imprima números impares en la pantalla. Usa el esqueleto de abajo:\n",
        "\n",
        "```\n",
        "x = 1\n",
        "while x < 11:\n",
        "    # line of code\n",
        "        # line of code\n",
        "    # line of code\n",
        "```\n",
        "\n",
        "Revisar\n",
        "\n",
        "**Ejercicio 3**\n",
        "\n",
        "Crea un programa con un bucle `for` y una declaración `break`. El programa debe iterar sobre los caracteres en una dirección de correo electrónico, salir del bucle cuando llegue al símbolo `@` e imprimir la parte antes de `@` en una línea. Usa el esqueleto de abajo:\n",
        "\n",
        "```\n",
        "for ch in \"john.smith@pythoninstitute.org\":\n",
        "    if ch == \"@\":\n",
        "        # línea de código\n",
        "    # línea de código\n",
        "```\n",
        "\n",
        "Revisar\n",
        "\n",
        "**Ejercicio 4**\n",
        "\n",
        "Crea un programa con un bucle `for` y una declaración`continue`. El programa debe iterar sobre una cadena de dígitos, reemplazar cada `0` con `x`, e imprimir la cadena modificada en la pantalla. Usa el esqueleto de abajo:\n",
        "\n",
        "```\n",
        "for digit in \"0165031806510\":\n",
        "    if digit == \"0\":\n",
        "        # línea de código\n",
        "        # línea de código\n",
        "    # línea de código\n",
        "```\n",
        "\n",
        "Revisar\n",
        "\n",
        "**Ejercicio 5**\n",
        "\n",
        "¿Cuál es la salida del siguiente código?\n",
        "\n",
        "```\n",
        "n = 3\n",
        "\n",
        "while n > 0:\n",
        "    print(n + 1)\n",
        "    n -= 1\n",
        "else:\n",
        "    print(n)\n",
        "```\n",
        "\n",
        "Revisar\n",
        "\n",
        "**Ejercicio 6**\n",
        "\n",
        "¿Cuál es la salida del siguiente código?\n",
        "\n",
        "```\n",
        "n = range(4)\n",
        "\n",
        "for num in n:\n",
        "    print(num - 1)\n",
        "else:\n",
        "    print(num)\n",
        "```\n",
        "\n",
        "Revisar\n",
        "\n",
        "**Ejercicio 7**\n",
        "\n",
        "¿Cuál es la salida del siguiente código?\n",
        "\n",
        "```\n",
        "for i in range(0, 6, 3):\n",
        "    print(i)\n",
        "```\n",
        "\n",
        "Revisar"
      ],
      "metadata": {
        "id": "nnuMyedgat7z"
      }
    },
    {
      "cell_type": "markdown",
      "source": [
        "## **Lógica de computadora**\n",
        "\n",
        "¿Te has dado cuenta de que las condiciones que hemos usado hasta ahora han sido muy simples, por no decir, bastante primitivas? Las condiciones que utilizamos en la vida real son mucho más complejas. Veamos esta oración:\n",
        "\n",
        "*Si tenemos tiempo libre, y el clima es bueno, saldremos a caminar.*\n",
        "\n",
        "Hemos utilizado la conjunción `and (y)`, lo que significa que salir a caminar depende del cumplimiento simultáneo de estas dos condiciones. En el lenguaje de la lógica, tal conexión de condiciones se denomina **conjunción**. Y ahora otro ejemplo:\n",
        "\n",
        "*Si estás en el centro comercial o estoy en el centro comercial, uno de nosotros le comprará un regalo a mamá.*\n",
        "\n",
        "La aparición de la palabra `or (o)` significa que la compra depende de al menos una de estas condiciones. En lógica, este compuesto se llama una **disyunción**.\n",
        "\n",
        "Está claro que Python debe tener operadores para construir conjunciones y disyunciones. Sin ellos, el poder expresivo del lenguaje se debilitaría sustancialmente. Se llaman **operadores lógicos**.\n",
        "\n",
        "\n"
      ],
      "metadata": {
        "id": "BK0X3B1fc-JJ"
      }
    },
    {
      "cell_type": "markdown",
      "source": [
        "## **and**\n",
        "\n",
        "Un operador de conjunción lógica en Python es la palabra *y*. Es un operador binario **con una prioridad inferior a la expresada por los operadores de comparación**. Nos permite codificar condiciones complejas sin el uso de paréntesis como este:\n",
        "\n",
        "```\n",
        "contador > 0and valor == 100\n",
        "```\n",
        "\n",
        "El resultado proporcionado por el operador `and` se puede determinar sobre la base de la **tabla de verdad**.\n",
        "\n",
        "Si consideramos la conjunción de `A and B`, el conjunto de valores posibles de argumentos y los valores correspondientes de conjunción se ve de la siguiente manera:"
      ],
      "metadata": {
        "id": "HDa2HMtKd-EU"
      }
    },
    {
      "cell_type": "markdown",
      "source": [
        "![2022-03-30_15h13_11.png](data:image/png;base64,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)"
      ],
      "metadata": {
        "id": "vLoU_QWWdpcQ"
      }
    },
    {
      "cell_type": "markdown",
      "source": [
        "## **or**\n",
        "\n",
        "Un operador de disyunción es la palabra `or`. Es un operador binario **con una prioridad más baja que `and`** (al igual que `+` en comparación con `*`). Su tabla de verdad es la siguiente:"
      ],
      "metadata": {
        "id": "kZ6tADApd1aw"
      }
    },
    {
      "cell_type": "markdown",
      "source": [
        "![2022-03-30_15h17_36.png](data:image/png;base64,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)"
      ],
      "metadata": {
        "id": "r9ncFmwUeVM6"
      }
    },
    {
      "cell_type": "markdown",
      "source": [
        "## **not**\n",
        "\n",
        "Además, hay otro operador que se puede aplicar para condiciones de construcción. Es un **operador unario que realiza una negación lógica**. Su funcionamiento es simple: convierte la verdad en falso y lo falso en verdad.\n",
        "\n",
        "Este operador se escribe como la palabra `not`, y su **prioridad es muy alta: igual que el unario `+` y `-`**. Su tabla de verdad es simple:"
      ],
      "metadata": {
        "id": "rO-mm0preX9B"
      }
    },
    {
      "cell_type": "markdown",
      "source": [
        "![2022-03-30_15h17_46.png](data:image/png;base64,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)"
      ],
      "metadata": {
        "id": "lwATk7J8erED"
      }
    },
    {
      "cell_type": "markdown",
      "source": [
        "## **¿Por qué necesitamos listas?**\n",
        "\n",
        "Puede suceder que tengas que leer, almacenar, procesar y, finalmente, imprimir docenas, quizás cientos, tal vez incluso miles de números. ¿Entonces que? ¿Necesitas crear una variable separada para cada valor? ¿Tendrás que pasar largas horas escribiendo declaraciones como la que se muestra a continuación?\n",
        "\n",
        "```\n",
        "var1 = int(input())\n",
        "var2 = int(input())\n",
        "var3 = int(input())\n",
        "var4 = int(input())\n",
        "var5 = int(input())\n",
        "var6 = int(input())\n",
        ":\n",
        ":\n",
        "```\n",
        "\n",
        "Si no crees que esta sea una tarea complicada, toma un papel y escribe un programa que:\n",
        "\n",
        "- Lea cinco números.\n",
        "- Los imprima en orden desde el más pequeño hasta el más grande (Este tipo de procesamiento se denomina **ordenamiento**).\n",
        "\n",
        "Debes percatarte que ni siquiera tienes suficiente papel para completar la tarea.\n",
        "\n",
        "Hasta ahora, has aprendido como declarar variables que pueden almacenar exactamente un valor dado a la vez. Tales variables a veces se denominan **escalares** por analogía con las matemáticas. Todas las variables que has usado hasta ahora son realmente escalares.\n",
        "\n",
        "Piensa en lo conveniente que sería declarar una variable que podría **almacenar más de un valor** . Por ejemplo, cien, o mil o incluso diez mil. Todavía sería una y la misma variable, pero muy amplia y espaciosa. ¿Suena atractivo? Quizás, pero ¿cómo manejarías un contenedor así lleno de valores diferentes? ¿Cómo elegirías solo el que necesitas?\n",
        "\n",
        "¿Y si solo pudieras numerarlos? Y luego di: *dame el valor número 2; asigna el valor número 15; aumenta el número del valor 10000*.\n",
        "\n",
        "Te mostraremos como declarar tales **variables de múltiples valores** . Haremos esto con el ejemplo que acabamos de sugerir. Escribiremos un programa **que ordene una secuencia de números**. No seremos particularmente ambiciosos: asumiremos que hay exactamente cinco números.\n",
        "\n",
        "Vamos a crear una variable llamada `numeros`; se le asigna no solo un número, sino que se llena con una lista que consta de cinco valores (nota: la lista **comienza con un corchete abierto y termina con un corchete cerrado** ; el espacio entre los corchetes es llenado con cinco números separados por comas).\n",
        "\n",
        "```\n",
        "numeros =[ 10, 5, 7, 2, 1]\n",
        "```\n",
        "\n",
        "Digamos lo mismo utilizando una terminología adecuada: **`numeros` es una lista que consta de cinco valores, todos ellos números**. También podemos decir que esta declaración crea una lista de longitud igual a cinco (ya que contiene cinco elementos).\n",
        "\n",
        "Los elementos dentro de una lista **pueden tener diferentes tipos** . Algunos de ellos pueden ser enteros, otros son flotantes y otros pueden ser listas.\n",
        "\n",
        "Python ha adoptado una convención que indica que los elementos de una lista están **siempre numerados desde cero**. Esto significa que el elemento almacenado al principio de la lista tendrá el número cero. Como hay cinco elementos en nuestra lista, al último de ellos se le asigna el número cuatro. No olvides esto.\n",
        "\n",
        "Pronto te acostumbrarás y se convertirá en algo natural.\n",
        "\n",
        "Antes de continuar con nuestra discusión, debemos indicar lo siguiente: nuestra lista **es una colección de elementos, pero cada elemento es un escalar**."
      ],
      "metadata": {
        "id": "5PXKHtVvfzeQ"
      }
    },
    {
      "cell_type": "markdown",
      "source": [
        "## **Haciendo uso de las listas**\n",
        "\n",
        "El bucle `for` tiene una variante muy especial que puede **procesar las listas** de manera muy efectiva. Echemos un vistazo a eso.\n",
        "\n",
        "Supongamos que desea **calcular la suma de todos los valores almacenados en la lista `miLista`**.\n",
        "\n",
        "Necesitas una variable cuya suma se almacenará y se le asignará inicialmente un valor de `0` - su nombre es `suma`. Luego agrega todos los elementos de la lista usando el bucle `for`. Echa un vistazo al fragmento en el editor.\n",
        "\n",
        "Comentemos este ejemplo:\n",
        "\n",
        "- A la lista se le asigna una secuencia de cinco valores enteros.\n",
        "- La variable `i` toma los valores `0`, `1`,`2`,`3`, y `4`, y luego indexa la lista, seleccionando los elementos siguientes: el primero, segundo, tercero, cuarto y quinto.\n",
        "- Cada uno de estos elementos se agrega junto con el operador `+=` a la variable `suma`, dando el resultado final al final del bucle.\n",
        "- Observa la forma en que se ha empleado la función `len()`, hace que el código sea independiente de cualquier posible cambio en el contenido de la lista.\n",
        "\n",
        "## **La segunda cara del ciclo for**\n",
        "\n",
        "Pero el bucle `for` puede hacer mucho más. Puede ocultar todas las acciones conectadas a la indexación de la lista y entregar todos los elementos de la lista de manera práctica.\n",
        "\n",
        "Este fragmento modificado muestra como funciona:\n",
        "\n",
        "```\n",
        "miLista = [10, 1, 8, 3, 5]\n",
        "suma = 0\n",
        "\n",
        "for i in miLista:\n",
        "    suma += i\n",
        "\n",
        "print(suma)\n",
        "```\n",
        "\n",
        "¿Qué sucede aquí?\n",
        "\n",
        "- La instrucción `for` especifica la variable utilizada para navegar por la lista (`i`) seguida de la palabra clave  `in`  y el nombre de la lista siendo procesado (`miLista`).\n",
        "- A la variable `i` se le asignan los valores de todos los elementos de la lista subsiguiente, y el proceso ocurre tantas veces como hay elementos en la lista.\n",
        "- Esto significa que usa la variable `i` como una copia de los valores de los elementos, y no necesita emplear índices.\n",
        "- La función `len()` tampoco es necesaria aquí."
      ],
      "metadata": {
        "id": "9qD8dSm3gSnI"
      }
    },
    {
      "cell_type": "markdown",
      "source": [
        "## **Puntos clave**\n",
        "\n",
        "1. La lista **es un tipo de dato** en Python que se utiliza para **almacenar múltiples objetos**. Es una **colección ordenada y mutable** de elementos separados por comas entre corchetes, por ejemplo:\n",
        "\n",
        "```\n",
        "miLista = [1, None, True, \"Soy una cadena\", 256, 0]\n",
        "```\n",
        "\n",
        "2. Las listas se pueden **indexar y actualizar** , por ejemplo:\n",
        "\n",
        "```\n",
        "miLista  = [1, 1, None, True, 'Soy una cadena', 256, 0]\n",
        "print(miLista [3]) # salida: soy una cadena\n",
        "print(miLista  [-1]) # salida: 0\n",
        "\n",
        "miLista  [1] = '?'\n",
        "print (miLista) # salida: [1, '?', True, 'Soy una cadena', 256, 0]\n",
        "\n",
        "miLista.insert (0, \"first\")\n",
        "miLista.append (\"last\")\n",
        "print (miLista ) # salida: ['first', 1, '?', True, 'Soy una cadena', 256, 0, 'last']\n",
        "```\n",
        "\n",
        "3. Las listas pueden estar **anidadas**, por ejemplo: `miLista = [1, 'a', [\"lista\", 64, [0, 1], False]]`.\n",
        "\n",
        "4. Los elementos de la lista y las listas se pueden **eliminar**, por ejemplo:\n",
        "\n",
        "```\n",
        "miLista = [1, 2, 3, 4]\n",
        "del miLista[2]\n",
        "print(miLista) # salida: [1, 2, 4]\n",
        "\n",
        "del miLista  # borra toda la lista\n",
        "```\n",
        "\n",
        "5.Las listas pueden ser **iteradas** mediante el uso del bucle `for`, por ejemplo:\n",
        "\n",
        "```\n",
        "miLista = [\"blanco\", \"purpura\", \"azul\", \"amarillo\", \"verde\"]\n",
        "\n",
        "for color in miLista :\n",
        "    print(color)\n",
        "```\n",
        "\n",
        "6. La función `len()` se puede usar para **verificar la longitud de la lista**, por ejemplo:\n",
        "\n",
        "```\n",
        "miLista = [\"blanco\", \"purpura\", \"azul\", \"amarillo\", \"verde\"]\n",
        "print(len(miLista)) # la salidas es 5\n",
        "\n",
        "del miLista[2]\n",
        "print (len(miLista)) # la salidas es 4\n",
        "```\n",
        "\n",
        "7. Una invocación típica de **función** tiene el siguiente aspecto: `resultado = funcion(argumento)`, mientras que una invocación típica de un **método** se ve así: `resultado = data.method(arg)`.\n",
        "\n",
        "**Ejercicio 1**\n",
        "\n",
        "¿Cuál es la salida del siguiente fragmento de código?\n",
        "\n",
        "```\n",
        "lst = [1, 2, 3, 4, 5]\n",
        "lst.insert(1, 6)\n",
        "del lst[0]\n",
        "lst.append(1)\n",
        "\n",
        "print(lst)\n",
        "```\n",
        "\n",
        "Revisar\n",
        "\n",
        "**Ejercicio 2**\n",
        "\n",
        "¿Cuál es la salida del siguiente fragmento de código?\n",
        "\n",
        "```\n",
        "lst = [1, 2, 3, 4, 5]\n",
        "lst2 = []\n",
        "agregar = 0\n",
        "\n",
        "for number in lst:\n",
        "    agregar += number\n",
        "    lst2.append (agregar)\n",
        "\n",
        "print(lst2)\n",
        "```\n",
        "\n",
        "Revisar\n",
        "\n",
        "**Ejercicio 3**\n",
        "\n",
        "¿Qué sucede cuando ejecutas el siguiente fragmento de código?\n",
        "\n",
        "```\n",
        "lst = []\n",
        "del lst\n",
        "print(lst)\n",
        "```\n",
        "\n",
        "Revisar\n",
        "\n",
        "**Ejercicio 4**\n",
        "\n",
        "¿Cuál es la salida del siguiente fragmento de código?\n",
        "\n",
        "```\n",
        "lst = [1, [2, 3], 4]\n",
        "print(lst[1])\n",
        "print(len(lst))\n",
        "```\n",
        "\n",
        "Revisar"
      ],
      "metadata": {
        "id": "1mDiVbiJgv-k"
      }
    },
    {
      "cell_type": "markdown",
      "source": [
        "## **Ordenamiento Burbuja**\n",
        "\n",
        "Ahora que puedes hacer malabarismos con los elementos de las listas, es hora de aprender como **ordenarlos**. Se han inventado muchos algoritmos de clasificación, que difieren mucho en velocidad, así como en complejidad. Vamos a mostrar un algoritmo muy simple, fácil de entender, pero desafortunadamente, tampoco es muy eficiente. Se usa muy raramente, y ciertamente no para listas extensas.\n",
        "\n",
        "Digamos que una lista se puede ordenar de dos maneras:\n",
        "\n",
        "- Ascendente (o más precisamente, no descendente): si en cada par de elementos adyacentes, el primer elemento no es mayor que el segundo.\n",
        "- Descendente (o más precisamente, no ascendente): si en cada par de elementos adyacentes, el primer elemento no es menor que el segundo.\n",
        "\n",
        "En las siguientes secciones, ordenaremos la lista en orden ascendente, de modo que los números se ordenen de menor a mayor.\n",
        "\n",
        "Aquí está la lista:"
      ],
      "metadata": {
        "id": "WdiHxF1_j9wq"
      }
    },
    {
      "cell_type": "markdown",
      "source": [
        "![2022-03-30_15h29_47.png](data:image/png;base64,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)"
      ],
      "metadata": {
        "id": "zg6djWLEkAvJ"
      }
    },
    {
      "cell_type": "markdown",
      "source": [
        "Intentaremos utilizar el siguiente enfoque: tomaremos el primer y el segundo elemento y los compararemos; si determinamos que están en el orden incorrecto (es decir, el primero es mayor que el segundo), los intercambiaremos; Si su orden es válido, no haremos nada. Un vistazo a nuestra lista confirma lo último: los elementos 01 y 02 están en el orden correcto, así como `8<10`.\n",
        "\n",
        "Ahora observa el segundo y el tercer elemento. Están en las posiciones equivocadas. Tenemos que intercambiarlos:"
      ],
      "metadata": {
        "id": "P6bcVXbmkHy6"
      }
    },
    {
      "cell_type": "markdown",
      "source": [
        "![2022-03-30_15h30_04.png](data:image/png;base64,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)"
      ],
      "metadata": {
        "id": "87umFwDXkI-y"
      }
    },
    {
      "cell_type": "markdown",
      "source": [
        "Vamos más allá y observemos los elementos tercero y cuarto. Una vez más, esto no es lo que se supone que es. Tenemos que intercambiarlos:"
      ],
      "metadata": {
        "id": "MQ7WvDRTkPEz"
      }
    },
    {
      "cell_type": "markdown",
      "source": [
        "![2022-03-30_15h30_13.png](data:image/png;base64,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)"
      ],
      "metadata": {
        "id": "2kQdrVYGkR4M"
      }
    },
    {
      "cell_type": "markdown",
      "source": [
        "Ahora comprobemos los elementos cuarto y quinto. Si, ellos también están en las posiciones equivocadas. Ocurre otro intercambio:"
      ],
      "metadata": {
        "id": "62GpBvGJkXlZ"
      }
    },
    {
      "cell_type": "markdown",
      "source": [
        "![2022-03-30_15h30_27.png](data:image/png;base64,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)"
      ],
      "metadata": {
        "id": "ijnH9iDskYg8"
      }
    },
    {
      "cell_type": "markdown",
      "source": [
        "El primer paso a través de la lista ya está terminado. Todavía estamos lejos de terminar nuestro trabajo, pero algo curioso ha sucedido mientras tanto. El elemento más grande, `10`, ya ha llegado al final de la lista. Ten en cuenta que este es el **lugar deseado** para el. Todos los elementos restantes forman un lío pintoresco, pero este ya está en su lugar.\n",
        "\n",
        "Ahora, por un momento, intenta imaginar la lista de una manera ligeramente diferente, es decir, de esta manera:"
      ],
      "metadata": {
        "id": "m5MIAv82ki96"
      }
    },
    {
      "cell_type": "markdown",
      "source": [
        "![2022-03-30_15h44_25.png](data:image/png;base64,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)"
      ],
      "metadata": {
        "id": "N9-ByT8RkkJR"
      }
    },
    {
      "cell_type": "markdown",
      "source": [
        "Observa - El `10` está en la parte superior. Podríamos decir que flotó desde el fondo hasta la superficie, al igual que las burbujas **en una copa de champán**. El método de clasificación deriva su nombre de la misma observación: se denomina **ordenamiento de burbuja**.\n",
        "\n",
        "Ahora comenzamos con el segundo paso a través de la lista. Miramos el primer y el segundo elemento, es necesario un intercambio:"
      ],
      "metadata": {
        "id": "i551XHTZmV92"
      }
    },
    {
      "cell_type": "markdown",
      "source": [
        "![2022-03-30_15h44_41.png](data:image/png;base64,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)"
      ],
      "metadata": {
        "id": "_ujsgHsdmXUy"
      }
    },
    {
      "cell_type": "markdown",
      "source": [
        "Tiempo para el segundo y tercer elemento: también tenemos que intercambiarlos:"
      ],
      "metadata": {
        "id": "qLwzUwm9mjCC"
      }
    },
    {
      "cell_type": "markdown",
      "source": [
        "![2022-03-30_15h44_54.png](data:image/png;base64,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)"
      ],
      "metadata": {
        "id": "Q-ca_ScemkaS"
      }
    },
    {
      "cell_type": "markdown",
      "source": [
        "Ahora el tercer y cuarto elementos, y la segunda pasada, se completa, ya que 8 ya está en su lugar:"
      ],
      "metadata": {
        "id": "GLB1epkVmstS"
      }
    },
    {
      "cell_type": "markdown",
      "source": [
        "![2022-03-30_15h45_03.png](data:image/png;base64,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)"
      ],
      "metadata": {
        "id": "ZUpPp1QwmuaZ"
      }
    },
    {
      "cell_type": "markdown",
      "source": [
        "Comenzamos el siguiente pase inmediatamente. Observe atentamente el primer y el segundo elemento: se necesita otro cambio:"
      ],
      "metadata": {
        "id": "qXv_u2kCm2fa"
      }
    },
    {
      "cell_type": "markdown",
      "source": [
        "![2022-03-30_15h45_18.png](data:image/png;base64,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)"
      ],
      "metadata": {
        "id": "BcjABYlYm3jM"
      }
    },
    {
      "cell_type": "markdown",
      "source": [
        "Ahora `6` necesita ir a su lugar. Cambiamos el segundo y el tercer elemento:"
      ],
      "metadata": {
        "id": "QvRflnmwnBJ6"
      }
    },
    {
      "cell_type": "markdown",
      "source": [
        "![2022-03-30_15h45_29.png](data:image/png;base64,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)"
      ],
      "metadata": {
        "id": "LyNGI5vjnCSK"
      }
    },
    {
      "cell_type": "markdown",
      "source": [
        "La lista ya está ordenada. No tenemos nada más que hacer. Esto es exactamente lo que queremos.\n",
        "\n",
        "Como puedes ver, la esencia de este algoritmo es simple: **comparamos los elementos adyacentes y, al intercambiar algunos de ellos, logramos nuestro objetivo**.\n",
        "\n",
        "Codifiquemos en Python todas las acciones realizadas durante un solo paso a través de la lista, y luego consideraremos cuántos pases necesitamos para realizarlo. No hemos explicado esto hasta ahora, pero lo haremos pronto."
      ],
      "metadata": {
        "id": "Ghg7NwTInNvZ"
      }
    },
    {
      "cell_type": "markdown",
      "source": [
        "## **Ordenando una lista**\n",
        "\n",
        "¿Cuántos pases necesitamos para ordenar la lista completa?\n",
        "\n",
        "Resolvamos este problema de la siguiente manera: **introducimos otra variable**, su tarea es observar si se ha realizado algún intercambio durante el pase o no. Si no hay intercambio, entonces la lista ya está ordenada, y no hay que hacer nada más. Creamos una variable llamada `swapped`, y le asignamos un valor de `False` para indicar que no hay intercambios. De lo contrario, se le asignará `True`."
      ],
      "metadata": {
        "id": "-YdTDRL9pTjL"
      }
    },
    {
      "cell_type": "code",
      "source": [
        "miLista = [8, 10, 6, 2, 4] # lista para ordenar\n",
        "\n",
        "for i in range(len(miLista) - 1): # necesitamos (5 - 1) comparaciones\n",
        "    if miLista[i] > miLista[i + 1]: # compara elementos adyacentes\n",
        "        miLista[i], miLista [i + 1] = miLista[i + 1], miLista[i] # si terminamos aquí significa que tenemos que intercambiar los elementos.\n",
        "\n",
        "miLista = [8, 10, 6, 2, 4] # lista para ordenar\n",
        "swapped = True # lo necesitamos verdadero (True) para ingresar al bucle while\n",
        "\n",
        "while swapped:\n",
        "    swapped = False # no hay swaps hasta ahora\n",
        "    for i in range(len(miLista) - 1):\n",
        "        if miLista[i] > miLista[i + 1]:\n",
        "            swapped= True # ocurrió el intercambio!\n",
        "            miLista[i], miLista[i + 1] = miLista[i + 1], miLista[i]\n",
        "\n",
        "print(miLista)"
      ],
      "metadata": {
        "colab": {
          "base_uri": "https://localhost:8080/"
        },
        "id": "BymZjIc4pVyi",
        "outputId": "d3ace7d2-55c9-44d4-eb97-10843f730b07"
      },
      "execution_count": null,
      "outputs": [
        {
          "output_type": "stream",
          "name": "stdout",
          "text": [
            "[2, 4, 6, 8, 10]\n"
          ]
        }
      ]
    },
    {
      "cell_type": "markdown",
      "source": [
        "## **El ordenamiento burbuja - versión interactiva**\n",
        "\n",
        "En el editor, puedes ver un programa completo, enriquecido por una conversación con el usuario, y que permite ingresar e imprimir elementos de la lista: **El ordenamiento burbuja: versión interactiva final**.\n",
        "\n",
        "Python, sin embargo, tiene sus propios mecanismos de clasificación. Nadie necesita escribir sus propias clases, ya que hay un número suficiente de **herramientas listas para usar**.\n",
        "\n",
        "Te explicamos este sistema de clasificación porque es importante aprender como procesar los contenidos de una lista y mostrarte como puede funcionar la clasificación real.\n",
        "\n",
        "Si quieres que Python ordene tu lista, puedes hacerlo de la siguiente manera:\n",
        "\n",
        "```\n",
        "miLista = [8, 10, 6, 2, 4]\n",
        "miLista.sort()\n",
        "print(miLista)\n",
        "```\n",
        "\n",
        "Es tan simple como eso.\n",
        "\n",
        "La salida del fragmento es la siguiente:\n",
        "\n",
        "```\n",
        "[2, 4, 6, 8, 10]\n",
        "```\n",
        "\n",
        "Como puedes ver, todas las listas tienen un método denominado `sort()`, que las ordena lo más rápido posible. Ya has aprendido acerca de algunos de los métodos de lista anteriormente, y pronto aprenderás más sobre otros."
      ],
      "metadata": {
        "id": "S_vV25-AqB8a"
      }
    },
    {
      "cell_type": "code",
      "source": [
        "miLista = []\n",
        "swapped = True\n",
        "num = int (input(\"¿Cuántos elementos deseas ordenar?:\"))\n",
        "\n",
        "for i in range(num):\n",
        "    val = float(input(\"Introduce un elemento de la lista:\"))\n",
        "    miLista.append(val)\n",
        "\n",
        "while swapped:\n",
        "    swapped = False\n",
        "    for i in range(len(miLista) - 1):\n",
        "        if miLista[i] > miLista[i + 1]:\n",
        "            swapped = True\n",
        "            miLista[i], miLista[i + 1] = miLista[i + 1], miLista[i]\n",
        "\n",
        "print(\"\\nOrdenado:\")\n",
        "print(miLista)\n"
      ],
      "metadata": {
        "id": "kObSgHPAqSIj"
      },
      "execution_count": null,
      "outputs": []
    },
    {
      "cell_type": "markdown",
      "source": [
        "## **Puntos clave**\n",
        "\n",
        "1. Puedes usar el método `sort()` para ordenar los elementos de una lista, por ejemplo:\n",
        "\n",
        "```\n",
        "lst = [5, 3, 1, 2, 4]\n",
        "print(lst)\n",
        "\n",
        "lst.sort ()\n",
        "print(lst) # salida: [1, 2, 3, 4, 5]\n",
        "```\n",
        "\n",
        "2.También hay un método de lista llamado `reverse()`, que puedes usar para invertir la lista, por ejemplo:\n",
        "\n",
        "```\n",
        "lst = [5, 3, 1, 2, 4]\n",
        "print(lst)\n",
        "\n",
        "lst.reverse()\n",
        "print (lst) # salida: [4, 2, 1, 3, 5]\n",
        "```\n",
        "\n",
        "**Ejercicio 1**\n",
        "\n",
        "¿Cuál es la salida del siguiente fragmento de código?\n",
        "\n",
        "```\n",
        "lst = [\"D\", \"F\", \"A\", \"Z\"]\n",
        "lst.sort ()\n",
        "\n",
        "print(lst)\n",
        "```\n",
        "\n",
        "Revisar\n",
        "\n",
        "**Ejercicio 2**\n",
        "\n",
        "¿Cuál es la salida del siguiente fragmento de código?\n",
        "\n",
        "```\n",
        "a = 3\n",
        "b = 1\n",
        "c = 2\n",
        "\n",
        "lst = [a, c, b]\n",
        "lst.sort ()\n",
        "\n",
        "print(lst)\n",
        "```\n",
        "\n",
        "Revisar\n",
        "\n",
        "**Ejercicio 3**\n",
        "\n",
        "¿Cuál es la salida del siguiente fragmento de código?\n",
        "\n",
        "```\n",
        "a = \"A\"\n",
        "b = \"B\"\n",
        "c = \"C\"\n",
        "d = \"\"\n",
        "\n",
        "lst = [a, b, c, d]\n",
        "lst.reverse ()\n",
        "\n",
        "print(lst)\n",
        "```\n",
        "\n",
        "Revisar"
      ],
      "metadata": {
        "id": "BsQmNtr8rUf6"
      }
    },
    {
      "cell_type": "markdown",
      "source": [
        "[Ejercicios de Listas - Tuplas](https://aprendeconalf.es/docencia/python/ejercicios/listas-tuplas/)\n",
        "\n",
        "[Ejercicios Diccionarios](https://aprendeconalf.es/docencia/python/ejercicios/diccionarios/)"
      ],
      "metadata": {
        "id": "cxvlEDFTBNuI"
      }
    }
  ],
  "metadata": {
    "colab": {
      "collapsed_sections": [],
      "name": "Conceptos Basicos Python.ipynb",
      "provenance": [],
      "toc_visible": true,
      "include_colab_link": true
    },
    "kernelspec": {
      "display_name": "Python 3",
      "name": "python3"
    },
    "language_info": {
      "name": "python"
    }
  },
  "nbformat": 4,
  "nbformat_minor": 0
}